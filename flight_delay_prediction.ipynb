{
 "cells": [
  {
   "attachments": {},
   "cell_type": "markdown",
   "metadata": {},
   "source": [
    "# Milestone 2 Phase 1\n",
    "___\n",
    "___\n",
    "Nama    : Ali Aufa Fakhri\n",
    "\n",
    "Batch   : 019\n",
    "\n",
    "---\n",
    "---"
   ]
  },
  {
   "attachments": {},
   "cell_type": "markdown",
   "metadata": {},
   "source": [
    "# 1. Introduction\n",
    "\n",
    "## Background\n",
    "\n",
    "The airline industry is a critical component of the global transportation network, connecting people and goods across the world. However, flight delays and disruptions continue to pose significant challenges for both airlines and passengers. Delays can lead to increased costs, missed connections, decreased customer satisfaction, and operational inefficiencies. As a result, airlines are constantly seeking innovative solutions to predict and manage flight delays effectively.\n",
    "\n",
    "To address this issue, airlines collect vast amounts of data related to flight schedules, performance, and external factors that may impact operations. This data includes information about the airline, flight number, departure and arrival airports, day of the week, and scheduled departure time. By leveraging this dataset, airlines can develop predictive models to forecast flight delays and take proactive measures to minimize disruptions.\n",
    "\n",
    "## Problem Statement\n",
    "Analyze the airline's comprehensive dataset and develop a predictive model to accurately forecast flight delays. The goal is to create a reliable tool that can predict whether a given flight will be delayed based on the scheduled departure information. Ensuring passenger satisfaction and managing expectations are critical, so minimizing false negatives should be important\n",
    "\n",
    "By solving this problem, the airline company aims to proactively manage and minimize flight delays.\n",
    "\n",
    "## Dataset\n",
    "\n",
    "The provided dataset consists of 539,383 instances (rows) and 8 different features (columns). Here's a list of features and it's description:\n",
    "\n",
    "\n",
    "Here's a markdown table explaining each variable in the dataset:\n",
    "\n",
    "| Variable     | Description                                                |\n",
    "|--------------|------------------------------------------------------------|\n",
    "| id           | The unique identifier for each flight record                |\n",
    "| Airline      | The airline associated with the flight                      |\n",
    "| Flight       | The flight number                                          |\n",
    "| AirportFrom  | The code for the departure airport                         |\n",
    "| AirportTo    | The code for the arrival airport                           |\n",
    "| DayOfWeek    | The day of the week when the flight is scheduled           |\n",
    "| Time         | The departure time measured in minutes from midnight       |\n",
    "| Length       | The duration of the flight in minutes                      |\n",
    "| Delay        | The delay status of the flight (0 = not delayed, 1 = delayed) |\n",
    "\n",
    "Each variable represents a specific aspect of the flight and its scheduled departure. The dataset contains information about the airline, flight number, departure and arrival airports, the day of the week when the flight is scheduled, and the scheduled departure time. These variables will be used as input features for predicting whether a given flight will be delayed."
   ]
  },
  {
   "attachments": {},
   "cell_type": "markdown",
   "metadata": {},
   "source": [
    "---"
   ]
  },
  {
   "attachments": {},
   "cell_type": "markdown",
   "metadata": {},
   "source": [
    "# 2. Import Library\n",
    "\n",
    "Library used in this assignment"
   ]
  },
  {
   "cell_type": "code",
   "execution_count": 1,
   "metadata": {},
   "outputs": [],
   "source": [
    "# import library\n",
    "\n",
    "import numpy as np\n",
    "import pandas as pd\n",
    "import matplotlib.pyplot as plt\n",
    "import seaborn as sns\n",
    "import warnings\n",
    "\n",
    "# pipeline\n",
    "from sklearn.pipeline import Pipeline\n",
    "from sklearn.compose import ColumnTransformer\n",
    "\n",
    "# feature engineering\n",
    "from sklearn.model_selection import train_test_split\n",
    "from feature_engine.outliers import Winsorizer\n",
    "from sklearn.preprocessing import MinMaxScaler  # data skew\n",
    "from sklearn.preprocessing import StandardScaler\n",
    "from sklearn.preprocessing import OneHotEncoder\n",
    "import category_encoders as ce\n",
    "from sklearn.feature_selection import SelectKBest, chi2, f_classif\n",
    "\n",
    "# classification model\n",
    "from sklearn.linear_model import LogisticRegression\n",
    "from sklearn.svm import SVC\n",
    "from sklearn.tree import DecisionTreeClassifier\n",
    "from sklearn.ensemble import RandomForestClassifier\n",
    "from sklearn.neighbors import KNeighborsClassifier\n",
    "from sklearn.naive_bayes import GaussianNB\n",
    "from sklearn.ensemble import GradientBoostingClassifier\n",
    "\n",
    "# classification evaluation\n",
    "from sklearn.metrics import confusion_matrix, ConfusionMatrixDisplay\n",
    "from sklearn.metrics import classification_report\n",
    "from sklearn.metrics import accuracy_score\n",
    "from sklearn.model_selection import cross_val_score\n",
    "\n",
    "# hyperparameter tuning\n",
    "from sklearn.model_selection import GridSearchCV\n",
    "\n",
    "import pickle\n",
    "import json\n",
    "warnings.filterwarnings('ignore')"
   ]
  },
  {
   "cell_type": "code",
   "execution_count": 2,
   "metadata": {},
   "outputs": [
    {
     "name": "stdout",
     "output_type": "stream",
     "text": [
      "8\n"
     ]
    }
   ],
   "source": [
    "import os\n",
    "print(os.cpu_count())"
   ]
  },
  {
   "attachments": {},
   "cell_type": "markdown",
   "metadata": {},
   "source": [
    "---"
   ]
  },
  {
   "attachments": {},
   "cell_type": "markdown",
   "metadata": {},
   "source": [
    "# 3. Data Loading\n"
   ]
  },
  {
   "cell_type": "code",
   "execution_count": 3,
   "metadata": {},
   "outputs": [],
   "source": [
    "# input dataframe\n",
    "df = pd.read_csv('h8dsft_P1M2__ali_aufa.csv')"
   ]
  },
  {
   "attachments": {},
   "cell_type": "markdown",
   "metadata": {},
   "source": [
    "## Data shape overview"
   ]
  },
  {
   "cell_type": "code",
   "execution_count": 4,
   "metadata": {},
   "outputs": [],
   "source": [
    "# setting to view all columns\n",
    "pd.set_option('display.max_columns', None)"
   ]
  },
  {
   "cell_type": "code",
   "execution_count": 5,
   "metadata": {},
   "outputs": [
    {
     "data": {
      "text/html": [
       "<div>\n",
       "<style scoped>\n",
       "    .dataframe tbody tr th:only-of-type {\n",
       "        vertical-align: middle;\n",
       "    }\n",
       "\n",
       "    .dataframe tbody tr th {\n",
       "        vertical-align: top;\n",
       "    }\n",
       "\n",
       "    .dataframe thead th {\n",
       "        text-align: right;\n",
       "    }\n",
       "</style>\n",
       "<table border=\"1\" class=\"dataframe\">\n",
       "  <thead>\n",
       "    <tr style=\"text-align: right;\">\n",
       "      <th></th>\n",
       "      <th>id</th>\n",
       "      <th>Airline</th>\n",
       "      <th>Flight</th>\n",
       "      <th>AirportFrom</th>\n",
       "      <th>AirportTo</th>\n",
       "      <th>DayOfWeek</th>\n",
       "      <th>Time</th>\n",
       "      <th>Length</th>\n",
       "      <th>Delay</th>\n",
       "    </tr>\n",
       "  </thead>\n",
       "  <tbody>\n",
       "    <tr>\n",
       "      <th>0</th>\n",
       "      <td>1</td>\n",
       "      <td>CO</td>\n",
       "      <td>269</td>\n",
       "      <td>SFO</td>\n",
       "      <td>IAH</td>\n",
       "      <td>3</td>\n",
       "      <td>15</td>\n",
       "      <td>205</td>\n",
       "      <td>1</td>\n",
       "    </tr>\n",
       "    <tr>\n",
       "      <th>1</th>\n",
       "      <td>2</td>\n",
       "      <td>US</td>\n",
       "      <td>1558</td>\n",
       "      <td>PHX</td>\n",
       "      <td>CLT</td>\n",
       "      <td>3</td>\n",
       "      <td>15</td>\n",
       "      <td>222</td>\n",
       "      <td>1</td>\n",
       "    </tr>\n",
       "    <tr>\n",
       "      <th>2</th>\n",
       "      <td>3</td>\n",
       "      <td>AA</td>\n",
       "      <td>2400</td>\n",
       "      <td>LAX</td>\n",
       "      <td>DFW</td>\n",
       "      <td>3</td>\n",
       "      <td>20</td>\n",
       "      <td>165</td>\n",
       "      <td>1</td>\n",
       "    </tr>\n",
       "    <tr>\n",
       "      <th>3</th>\n",
       "      <td>4</td>\n",
       "      <td>AA</td>\n",
       "      <td>2466</td>\n",
       "      <td>SFO</td>\n",
       "      <td>DFW</td>\n",
       "      <td>3</td>\n",
       "      <td>20</td>\n",
       "      <td>195</td>\n",
       "      <td>1</td>\n",
       "    </tr>\n",
       "    <tr>\n",
       "      <th>4</th>\n",
       "      <td>5</td>\n",
       "      <td>AS</td>\n",
       "      <td>108</td>\n",
       "      <td>ANC</td>\n",
       "      <td>SEA</td>\n",
       "      <td>3</td>\n",
       "      <td>30</td>\n",
       "      <td>202</td>\n",
       "      <td>0</td>\n",
       "    </tr>\n",
       "    <tr>\n",
       "      <th>5</th>\n",
       "      <td>6</td>\n",
       "      <td>CO</td>\n",
       "      <td>1094</td>\n",
       "      <td>LAX</td>\n",
       "      <td>IAH</td>\n",
       "      <td>3</td>\n",
       "      <td>30</td>\n",
       "      <td>181</td>\n",
       "      <td>1</td>\n",
       "    </tr>\n",
       "    <tr>\n",
       "      <th>6</th>\n",
       "      <td>7</td>\n",
       "      <td>DL</td>\n",
       "      <td>1768</td>\n",
       "      <td>LAX</td>\n",
       "      <td>MSP</td>\n",
       "      <td>3</td>\n",
       "      <td>30</td>\n",
       "      <td>220</td>\n",
       "      <td>0</td>\n",
       "    </tr>\n",
       "    <tr>\n",
       "      <th>7</th>\n",
       "      <td>8</td>\n",
       "      <td>DL</td>\n",
       "      <td>2722</td>\n",
       "      <td>PHX</td>\n",
       "      <td>DTW</td>\n",
       "      <td>3</td>\n",
       "      <td>30</td>\n",
       "      <td>228</td>\n",
       "      <td>0</td>\n",
       "    </tr>\n",
       "    <tr>\n",
       "      <th>8</th>\n",
       "      <td>9</td>\n",
       "      <td>DL</td>\n",
       "      <td>2606</td>\n",
       "      <td>SFO</td>\n",
       "      <td>MSP</td>\n",
       "      <td>3</td>\n",
       "      <td>35</td>\n",
       "      <td>216</td>\n",
       "      <td>1</td>\n",
       "    </tr>\n",
       "    <tr>\n",
       "      <th>9</th>\n",
       "      <td>10</td>\n",
       "      <td>AA</td>\n",
       "      <td>2538</td>\n",
       "      <td>LAS</td>\n",
       "      <td>ORD</td>\n",
       "      <td>3</td>\n",
       "      <td>40</td>\n",
       "      <td>200</td>\n",
       "      <td>1</td>\n",
       "    </tr>\n",
       "  </tbody>\n",
       "</table>\n",
       "</div>"
      ],
      "text/plain": [
       "   id Airline  Flight AirportFrom AirportTo  DayOfWeek  Time  Length  Delay\n",
       "0   1      CO     269         SFO       IAH          3    15     205      1\n",
       "1   2      US    1558         PHX       CLT          3    15     222      1\n",
       "2   3      AA    2400         LAX       DFW          3    20     165      1\n",
       "3   4      AA    2466         SFO       DFW          3    20     195      1\n",
       "4   5      AS     108         ANC       SEA          3    30     202      0\n",
       "5   6      CO    1094         LAX       IAH          3    30     181      1\n",
       "6   7      DL    1768         LAX       MSP          3    30     220      0\n",
       "7   8      DL    2722         PHX       DTW          3    30     228      0\n",
       "8   9      DL    2606         SFO       MSP          3    35     216      1\n",
       "9  10      AA    2538         LAS       ORD          3    40     200      1"
      ]
     },
     "execution_count": 5,
     "metadata": {},
     "output_type": "execute_result"
    }
   ],
   "source": [
    "# show first 10 rows\n",
    "df.head(10)"
   ]
  },
  {
   "cell_type": "code",
   "execution_count": 6,
   "metadata": {},
   "outputs": [
    {
     "data": {
      "text/html": [
       "<div>\n",
       "<style scoped>\n",
       "    .dataframe tbody tr th:only-of-type {\n",
       "        vertical-align: middle;\n",
       "    }\n",
       "\n",
       "    .dataframe tbody tr th {\n",
       "        vertical-align: top;\n",
       "    }\n",
       "\n",
       "    .dataframe thead th {\n",
       "        text-align: right;\n",
       "    }\n",
       "</style>\n",
       "<table border=\"1\" class=\"dataframe\">\n",
       "  <thead>\n",
       "    <tr style=\"text-align: right;\">\n",
       "      <th></th>\n",
       "      <th>id</th>\n",
       "      <th>Airline</th>\n",
       "      <th>Flight</th>\n",
       "      <th>AirportFrom</th>\n",
       "      <th>AirportTo</th>\n",
       "      <th>DayOfWeek</th>\n",
       "      <th>Time</th>\n",
       "      <th>Length</th>\n",
       "      <th>Delay</th>\n",
       "    </tr>\n",
       "  </thead>\n",
       "  <tbody>\n",
       "    <tr>\n",
       "      <th>539373</th>\n",
       "      <td>539374</td>\n",
       "      <td>B6</td>\n",
       "      <td>480</td>\n",
       "      <td>LAX</td>\n",
       "      <td>BOS</td>\n",
       "      <td>5</td>\n",
       "      <td>1435</td>\n",
       "      <td>320</td>\n",
       "      <td>1</td>\n",
       "    </tr>\n",
       "    <tr>\n",
       "      <th>539374</th>\n",
       "      <td>539375</td>\n",
       "      <td>DL</td>\n",
       "      <td>2354</td>\n",
       "      <td>LAX</td>\n",
       "      <td>ATL</td>\n",
       "      <td>5</td>\n",
       "      <td>1435</td>\n",
       "      <td>255</td>\n",
       "      <td>0</td>\n",
       "    </tr>\n",
       "    <tr>\n",
       "      <th>539375</th>\n",
       "      <td>539376</td>\n",
       "      <td>FL</td>\n",
       "      <td>58</td>\n",
       "      <td>LAX</td>\n",
       "      <td>ATL</td>\n",
       "      <td>5</td>\n",
       "      <td>1435</td>\n",
       "      <td>250</td>\n",
       "      <td>0</td>\n",
       "    </tr>\n",
       "    <tr>\n",
       "      <th>539376</th>\n",
       "      <td>539377</td>\n",
       "      <td>B6</td>\n",
       "      <td>717</td>\n",
       "      <td>JFK</td>\n",
       "      <td>SJU</td>\n",
       "      <td>5</td>\n",
       "      <td>1439</td>\n",
       "      <td>220</td>\n",
       "      <td>1</td>\n",
       "    </tr>\n",
       "    <tr>\n",
       "      <th>539377</th>\n",
       "      <td>539378</td>\n",
       "      <td>B6</td>\n",
       "      <td>739</td>\n",
       "      <td>JFK</td>\n",
       "      <td>PSE</td>\n",
       "      <td>5</td>\n",
       "      <td>1439</td>\n",
       "      <td>223</td>\n",
       "      <td>1</td>\n",
       "    </tr>\n",
       "    <tr>\n",
       "      <th>539378</th>\n",
       "      <td>539379</td>\n",
       "      <td>CO</td>\n",
       "      <td>178</td>\n",
       "      <td>OGG</td>\n",
       "      <td>SNA</td>\n",
       "      <td>5</td>\n",
       "      <td>1439</td>\n",
       "      <td>326</td>\n",
       "      <td>0</td>\n",
       "    </tr>\n",
       "    <tr>\n",
       "      <th>539379</th>\n",
       "      <td>539380</td>\n",
       "      <td>FL</td>\n",
       "      <td>398</td>\n",
       "      <td>SEA</td>\n",
       "      <td>ATL</td>\n",
       "      <td>5</td>\n",
       "      <td>1439</td>\n",
       "      <td>305</td>\n",
       "      <td>0</td>\n",
       "    </tr>\n",
       "    <tr>\n",
       "      <th>539380</th>\n",
       "      <td>539381</td>\n",
       "      <td>FL</td>\n",
       "      <td>609</td>\n",
       "      <td>SFO</td>\n",
       "      <td>MKE</td>\n",
       "      <td>5</td>\n",
       "      <td>1439</td>\n",
       "      <td>255</td>\n",
       "      <td>0</td>\n",
       "    </tr>\n",
       "    <tr>\n",
       "      <th>539381</th>\n",
       "      <td>539382</td>\n",
       "      <td>UA</td>\n",
       "      <td>78</td>\n",
       "      <td>HNL</td>\n",
       "      <td>SFO</td>\n",
       "      <td>5</td>\n",
       "      <td>1439</td>\n",
       "      <td>313</td>\n",
       "      <td>1</td>\n",
       "    </tr>\n",
       "    <tr>\n",
       "      <th>539382</th>\n",
       "      <td>539383</td>\n",
       "      <td>US</td>\n",
       "      <td>1442</td>\n",
       "      <td>LAX</td>\n",
       "      <td>PHL</td>\n",
       "      <td>5</td>\n",
       "      <td>1439</td>\n",
       "      <td>301</td>\n",
       "      <td>1</td>\n",
       "    </tr>\n",
       "  </tbody>\n",
       "</table>\n",
       "</div>"
      ],
      "text/plain": [
       "            id Airline  Flight AirportFrom AirportTo  DayOfWeek  Time  Length  \\\n",
       "539373  539374      B6     480         LAX       BOS          5  1435     320   \n",
       "539374  539375      DL    2354         LAX       ATL          5  1435     255   \n",
       "539375  539376      FL      58         LAX       ATL          5  1435     250   \n",
       "539376  539377      B6     717         JFK       SJU          5  1439     220   \n",
       "539377  539378      B6     739         JFK       PSE          5  1439     223   \n",
       "539378  539379      CO     178         OGG       SNA          5  1439     326   \n",
       "539379  539380      FL     398         SEA       ATL          5  1439     305   \n",
       "539380  539381      FL     609         SFO       MKE          5  1439     255   \n",
       "539381  539382      UA      78         HNL       SFO          5  1439     313   \n",
       "539382  539383      US    1442         LAX       PHL          5  1439     301   \n",
       "\n",
       "        Delay  \n",
       "539373      1  \n",
       "539374      0  \n",
       "539375      0  \n",
       "539376      1  \n",
       "539377      1  \n",
       "539378      0  \n",
       "539379      0  \n",
       "539380      0  \n",
       "539381      1  \n",
       "539382      1  "
      ]
     },
     "execution_count": 6,
     "metadata": {},
     "output_type": "execute_result"
    }
   ],
   "source": [
    "# show last 10 rows\n",
    "df.tail(10)"
   ]
  },
  {
   "cell_type": "code",
   "execution_count": 7,
   "metadata": {},
   "outputs": [
    {
     "data": {
      "text/plain": [
       "(539383, 9)"
      ]
     },
     "execution_count": 7,
     "metadata": {},
     "output_type": "execute_result"
    }
   ],
   "source": [
    "df.shape"
   ]
  },
  {
   "attachments": {},
   "cell_type": "markdown",
   "metadata": {},
   "source": [
    "the data consist of 539383 rows and 9 columns."
   ]
  },
  {
   "attachments": {},
   "cell_type": "markdown",
   "metadata": {},
   "source": [
    "## Check the data type"
   ]
  },
  {
   "cell_type": "code",
   "execution_count": 8,
   "metadata": {},
   "outputs": [
    {
     "name": "stdout",
     "output_type": "stream",
     "text": [
      "<class 'pandas.core.frame.DataFrame'>\n",
      "RangeIndex: 539383 entries, 0 to 539382\n",
      "Data columns (total 9 columns):\n",
      " #   Column       Non-Null Count   Dtype \n",
      "---  ------       --------------   ----- \n",
      " 0   id           539383 non-null  int64 \n",
      " 1   Airline      539383 non-null  object\n",
      " 2   Flight       539383 non-null  int64 \n",
      " 3   AirportFrom  539383 non-null  object\n",
      " 4   AirportTo    539383 non-null  object\n",
      " 5   DayOfWeek    539383 non-null  int64 \n",
      " 6   Time         539383 non-null  int64 \n",
      " 7   Length       539383 non-null  int64 \n",
      " 8   Delay        539383 non-null  int64 \n",
      "dtypes: int64(6), object(3)\n",
      "memory usage: 37.0+ MB\n"
     ]
    }
   ],
   "source": [
    "df.info()"
   ]
  },
  {
   "cell_type": "code",
   "execution_count": 9,
   "metadata": {},
   "outputs": [],
   "source": [
    "# create copy of dataframe\n",
    "data = df.copy()"
   ]
  },
  {
   "attachments": {},
   "cell_type": "markdown",
   "metadata": {},
   "source": [
    "## Check Duplicates"
   ]
  },
  {
   "cell_type": "code",
   "execution_count": 10,
   "metadata": {},
   "outputs": [
    {
     "data": {
      "text/plain": [
       "0"
      ]
     },
     "execution_count": 10,
     "metadata": {},
     "output_type": "execute_result"
    }
   ],
   "source": [
    "# cek duplikat\n",
    "data.duplicated().sum()"
   ]
  },
  {
   "attachments": {},
   "cell_type": "markdown",
   "metadata": {},
   "source": [
    "There is no data duplicates"
   ]
  },
  {
   "attachments": {},
   "cell_type": "markdown",
   "metadata": {},
   "source": [
    "## Check missing value"
   ]
  },
  {
   "cell_type": "code",
   "execution_count": 11,
   "metadata": {},
   "outputs": [
    {
     "data": {
      "text/plain": [
       "id             0\n",
       "Airline        0\n",
       "Flight         0\n",
       "AirportFrom    0\n",
       "AirportTo      0\n",
       "DayOfWeek      0\n",
       "Time           0\n",
       "Length         0\n",
       "Delay          0\n",
       "dtype: int64"
      ]
     },
     "execution_count": 11,
     "metadata": {},
     "output_type": "execute_result"
    }
   ],
   "source": [
    "# cek missing value\n",
    "data.isna().sum()"
   ]
  },
  {
   "attachments": {},
   "cell_type": "markdown",
   "metadata": {},
   "source": [
    "There is no missing value"
   ]
  },
  {
   "attachments": {},
   "cell_type": "markdown",
   "metadata": {},
   "source": [
    "## Differentiate between numerical and categorical columsn"
   ]
  },
  {
   "cell_type": "code",
   "execution_count": 12,
   "metadata": {},
   "outputs": [
    {
     "name": "stdout",
     "output_type": "stream",
     "text": [
      "['id', 'Airline', 'Flight', 'AirportFrom', 'AirportTo', 'DayOfWeek', 'Time', 'Length', 'Delay']\n"
     ]
    }
   ],
   "source": [
    "print(data.columns.tolist())"
   ]
  },
  {
   "cell_type": "code",
   "execution_count": 13,
   "metadata": {},
   "outputs": [],
   "source": [
    "#numerik\n",
    "num_cols = ['Time', 'Length']\n",
    "#kategori\n",
    "cat_cols_object = ['Airline', 'AirportFrom', 'AirportTo'] \n",
    "cat_cols_number = ['Flight','DayOfWeek'] \n",
    "#exclude id becaus it's just unique value of each data\n",
    "# exclude Delay because it's our target variable "
   ]
  },
  {
   "attachments": {},
   "cell_type": "markdown",
   "metadata": {},
   "source": [
    "---"
   ]
  },
  {
   "attachments": {},
   "cell_type": "markdown",
   "metadata": {},
   "source": [
    "# 4. Exploratory Data Analysis\n"
   ]
  },
  {
   "attachments": {},
   "cell_type": "markdown",
   "metadata": {},
   "source": [
    "## Descriptive Statistics"
   ]
  },
  {
   "cell_type": "code",
   "execution_count": 14,
   "metadata": {},
   "outputs": [
    {
     "data": {
      "text/html": [
       "<div>\n",
       "<style scoped>\n",
       "    .dataframe tbody tr th:only-of-type {\n",
       "        vertical-align: middle;\n",
       "    }\n",
       "\n",
       "    .dataframe tbody tr th {\n",
       "        vertical-align: top;\n",
       "    }\n",
       "\n",
       "    .dataframe thead th {\n",
       "        text-align: right;\n",
       "    }\n",
       "</style>\n",
       "<table border=\"1\" class=\"dataframe\">\n",
       "  <thead>\n",
       "    <tr style=\"text-align: right;\">\n",
       "      <th></th>\n",
       "      <th>Time</th>\n",
       "      <th>Length</th>\n",
       "    </tr>\n",
       "  </thead>\n",
       "  <tbody>\n",
       "    <tr>\n",
       "      <th>count</th>\n",
       "      <td>539383.000000</td>\n",
       "      <td>539383.000000</td>\n",
       "    </tr>\n",
       "    <tr>\n",
       "      <th>mean</th>\n",
       "      <td>802.728963</td>\n",
       "      <td>132.202007</td>\n",
       "    </tr>\n",
       "    <tr>\n",
       "      <th>std</th>\n",
       "      <td>278.045911</td>\n",
       "      <td>70.117016</td>\n",
       "    </tr>\n",
       "    <tr>\n",
       "      <th>min</th>\n",
       "      <td>10.000000</td>\n",
       "      <td>0.000000</td>\n",
       "    </tr>\n",
       "    <tr>\n",
       "      <th>25%</th>\n",
       "      <td>565.000000</td>\n",
       "      <td>81.000000</td>\n",
       "    </tr>\n",
       "    <tr>\n",
       "      <th>50%</th>\n",
       "      <td>795.000000</td>\n",
       "      <td>115.000000</td>\n",
       "    </tr>\n",
       "    <tr>\n",
       "      <th>75%</th>\n",
       "      <td>1035.000000</td>\n",
       "      <td>162.000000</td>\n",
       "    </tr>\n",
       "    <tr>\n",
       "      <th>max</th>\n",
       "      <td>1439.000000</td>\n",
       "      <td>655.000000</td>\n",
       "    </tr>\n",
       "  </tbody>\n",
       "</table>\n",
       "</div>"
      ],
      "text/plain": [
       "                Time         Length\n",
       "count  539383.000000  539383.000000\n",
       "mean      802.728963     132.202007\n",
       "std       278.045911      70.117016\n",
       "min        10.000000       0.000000\n",
       "25%       565.000000      81.000000\n",
       "50%       795.000000     115.000000\n",
       "75%      1035.000000     162.000000\n",
       "max      1439.000000     655.000000"
      ]
     },
     "execution_count": 14,
     "metadata": {},
     "output_type": "execute_result"
    }
   ],
   "source": [
    "data[num_cols].describe()"
   ]
  },
  {
   "attachments": {},
   "cell_type": "markdown",
   "metadata": {},
   "source": [
    "We can see from the data that the average flight departs about 795 to 802 minutes from midnight, or approximately 1 PM. From flight length we can conclude that most flight is about 2 hours. The longest flight from the data is about 11 hour."
   ]
  },
  {
   "cell_type": "code",
   "execution_count": 15,
   "metadata": {},
   "outputs": [
    {
     "data": {
      "text/html": [
       "<div>\n",
       "<style scoped>\n",
       "    .dataframe tbody tr th:only-of-type {\n",
       "        vertical-align: middle;\n",
       "    }\n",
       "\n",
       "    .dataframe tbody tr th {\n",
       "        vertical-align: top;\n",
       "    }\n",
       "\n",
       "    .dataframe thead th {\n",
       "        text-align: right;\n",
       "    }\n",
       "</style>\n",
       "<table border=\"1\" class=\"dataframe\">\n",
       "  <thead>\n",
       "    <tr style=\"text-align: right;\">\n",
       "      <th></th>\n",
       "      <th>Airline</th>\n",
       "      <th>AirportFrom</th>\n",
       "      <th>AirportTo</th>\n",
       "    </tr>\n",
       "  </thead>\n",
       "  <tbody>\n",
       "    <tr>\n",
       "      <th>count</th>\n",
       "      <td>539383</td>\n",
       "      <td>539383</td>\n",
       "      <td>539383</td>\n",
       "    </tr>\n",
       "    <tr>\n",
       "      <th>unique</th>\n",
       "      <td>18</td>\n",
       "      <td>293</td>\n",
       "      <td>293</td>\n",
       "    </tr>\n",
       "    <tr>\n",
       "      <th>top</th>\n",
       "      <td>WN</td>\n",
       "      <td>ATL</td>\n",
       "      <td>ATL</td>\n",
       "    </tr>\n",
       "    <tr>\n",
       "      <th>freq</th>\n",
       "      <td>94097</td>\n",
       "      <td>34449</td>\n",
       "      <td>34440</td>\n",
       "    </tr>\n",
       "  </tbody>\n",
       "</table>\n",
       "</div>"
      ],
      "text/plain": [
       "       Airline AirportFrom AirportTo\n",
       "count   539383      539383    539383\n",
       "unique      18         293       293\n",
       "top         WN         ATL       ATL\n",
       "freq     94097       34449     34440"
      ]
     },
     "execution_count": 15,
     "metadata": {},
     "output_type": "execute_result"
    }
   ],
   "source": [
    "data[cat_cols_object].describe()"
   ]
  },
  {
   "attachments": {},
   "cell_type": "markdown",
   "metadata": {},
   "source": [
    "There is 18 airlines and 293 airport. "
   ]
  },
  {
   "attachments": {},
   "cell_type": "markdown",
   "metadata": {},
   "source": [
    "## Delay Ratio\n",
    "See if there is any imbalance from the target data"
   ]
  },
  {
   "cell_type": "code",
   "execution_count": 16,
   "metadata": {},
   "outputs": [
    {
     "data": {
      "text/plain": [
       "0    299119\n",
       "1    240264\n",
       "Name: Delay, dtype: int64"
      ]
     },
     "execution_count": 16,
     "metadata": {},
     "output_type": "execute_result"
    }
   ],
   "source": [
    "# query jumlah default_payment_next_month\n",
    "delay_count = data['Delay'].value_counts()\n",
    "delay_count"
   ]
  },
  {
   "cell_type": "code",
   "execution_count": 17,
   "metadata": {},
   "outputs": [
    {
     "data": {
      "image/png": "[encoded data removed]",
      "text/plain": [
       "<Figure size 640x480 with 1 Axes>"
      ]
     },
     "metadata": {},
     "output_type": "display_data"
    }
   ],
   "source": [
    "# Plotting pie chart\n",
    "plt.pie(delay_count, \n",
    "        labels=['Not Delayed', 'Delayed'], startangle=90,\n",
    "        colors=['limegreen','firebrick'],\n",
    "        autopct='%1.1f%%', explode=[0,0.1])\n",
    "plt.axis('equal')\n",
    "plt.title('Flight Delay Ratio')\n",
    "\n",
    "plt.show()"
   ]
  },
  {
   "attachments": {},
   "cell_type": "markdown",
   "metadata": {},
   "source": [
    "The data seems balanced between Delayed and not delayed. It seems that 44.5% of flights from the data are delayed flights."
   ]
  },
  {
   "attachments": {},
   "cell_type": "markdown",
   "metadata": {},
   "source": [
    "## Categorical Data Ratio"
   ]
  },
  {
   "cell_type": "code",
   "execution_count": 18,
   "metadata": {},
   "outputs": [
    {
     "data": {
      "image/png": "[encoded data removed]",
      "text/plain": [
       "<Figure size 1000x600 with 1 Axes>"
      ]
     },
     "metadata": {},
     "output_type": "display_data"
    }
   ],
   "source": [
    "plt.figure(figsize=(10, 6))\n",
    "ax = sns.countplot(data=data, x='Airline', hue='Delay', palette=['limegreen', 'firebrick'])\n",
    "ax.set_title('Airline distribution')\n",
    "ax.set_xticklabels(ax.get_xticklabels(), rotation=90)  # Rotate x-labels by 90 degrees\n",
    "plt.tight_layout()\n",
    "plt.show()"
   ]
  },
  {
   "attachments": {},
   "cell_type": "markdown",
   "metadata": {},
   "source": [
    "These airline have more delayed flights than not delayed:\n",
    "- Continental Airlines (CO)\n",
    "- Southwest Airlines (WN)\n",
    "\n",
    "Airline with most flight is Southwest Airlines, airline with most not delayed flight is Delta Airlines (DL), and some airlines with lowest delay ratio seems to be US Airways (US), Hawaiian Airlines (HA), PSA Airlines (OH), Mesa Airlines(YV), and AirTran Airways(FL).\n"
   ]
  },
  {
   "cell_type": "code",
   "execution_count": 19,
   "metadata": {},
   "outputs": [
    {
     "data": {
      "image/png": "[encoded data removed]",
      "text/plain": [
       "<Figure size 1000x600 with 1 Axes>"
      ]
     },
     "metadata": {},
     "output_type": "display_data"
    }
   ],
   "source": [
    "top_airports = data['AirportFrom'].value_counts().nlargest(10).index\n",
    "top_airport_data = data[data['AirportFrom'].isin(top_airports)]\n",
    "\n",
    "plt.figure(figsize=(10, 6))\n",
    "sns.countplot(data=top_airport_data, x='AirportFrom', hue='Delay', palette=['limegreen', 'firebrick'])\n",
    "plt.title('Top 10 Departure Airports')\n",
    "plt.xlabel('Airport')\n",
    "plt.ylabel('Count')\n",
    "plt.xticks(rotation=90)\n",
    "plt.tight_layout()\n",
    "plt.show()"
   ]
  },
  {
   "attachments": {},
   "cell_type": "markdown",
   "metadata": {},
   "source": [
    "Most flights are from Hartsfield-Jackson Atlanta International Airport - Georgia (ATL)"
   ]
  },
  {
   "cell_type": "code",
   "execution_count": 20,
   "metadata": {},
   "outputs": [
    {
     "data": {
      "image/png": "[encoded data removed]",
      "text/plain": [
       "<Figure size 1000x600 with 1 Axes>"
      ]
     },
     "metadata": {},
     "output_type": "display_data"
    }
   ],
   "source": [
    "top_airports = data['AirportTo'].value_counts().nlargest(10).index\n",
    "top_airport_data = data[data['AirportTo'].isin(top_airports)]\n",
    "\n",
    "plt.figure(figsize=(10, 6))\n",
    "sns.countplot(data=top_airport_data, x='AirportTo', hue='Delay', palette=['limegreen', 'firebrick'])\n",
    "plt.title('Top 10 Destination Airports')\n",
    "plt.xlabel('Airport')\n",
    "plt.ylabel('Count')\n",
    "plt.xticks(rotation=90)\n",
    "plt.tight_layout()\n",
    "plt.show()"
   ]
  },
  {
   "attachments": {},
   "cell_type": "markdown",
   "metadata": {},
   "source": [
    "Most destination also seems to be Hartsfield-Jackson Atlanta International Airport - Georgia. we can conclude that ATL is the busiest airport."
   ]
  },
  {
   "cell_type": "code",
   "execution_count": 21,
   "metadata": {},
   "outputs": [
    {
     "data": {
      "text/plain": [
       "<Axes: xlabel='DayOfWeek', ylabel='count'>"
      ]
     },
     "execution_count": 21,
     "metadata": {},
     "output_type": "execute_result"
    },
    {
     "data": {
      "image/png": "[encoded data removed]",
      "text/plain": [
       "<Figure size 640x480 with 1 Axes>"
      ]
     },
     "metadata": {},
     "output_type": "display_data"
    }
   ],
   "source": [
    "sns.countplot(data=data, x='DayOfWeek', hue='Delay', palette=['limegreen', 'firebrick'])"
   ]
  },
  {
   "attachments": {},
   "cell_type": "markdown",
   "metadata": {},
   "source": [
    "There is very little difference of flights on each day, but we can see that we have more flights on wednesday to friday. Also we have less delayed flights on friday."
   ]
  },
  {
   "cell_type": "code",
   "execution_count": 22,
   "metadata": {},
   "outputs": [
    {
     "data": {
      "text/plain": [
       "6585"
      ]
     },
     "execution_count": 22,
     "metadata": {},
     "output_type": "execute_result"
    }
   ],
   "source": [
    "data['Flight'].nunique()"
   ]
  },
  {
   "attachments": {},
   "cell_type": "markdown",
   "metadata": {},
   "source": [
    "There are 6585 unique flight number."
   ]
  },
  {
   "attachments": {},
   "cell_type": "markdown",
   "metadata": {},
   "source": [
    "## Numeric data distribution"
   ]
  },
  {
   "cell_type": "code",
   "execution_count": 23,
   "metadata": {},
   "outputs": [
    {
     "data": {
      "text/plain": [
       "<Axes: xlabel='Time', ylabel='Count'>"
      ]
     },
     "execution_count": 23,
     "metadata": {},
     "output_type": "execute_result"
    },
    {
     "data": {
      "image/png": "[encoded data removed]",
      "text/plain": [
       "<Figure size 640x480 with 1 Axes>"
      ]
     },
     "metadata": {},
     "output_type": "display_data"
    }
   ],
   "source": [
    "sns.histplot(data=data, x='Time', hue='Delay', kde=True)"
   ]
  },
  {
   "attachments": {},
   "cell_type": "markdown",
   "metadata": {},
   "source": [
    "It seems that we have different distribution for delayed and not delayed flights. Most flights depart in the morning between 6 to 8 AM (360 minutes to 500 from midnight) but most delayed flight happens on afternoon to evening flights."
   ]
  },
  {
   "cell_type": "code",
   "execution_count": 24,
   "metadata": {},
   "outputs": [
    {
     "data": {
      "text/plain": [
       "<Axes: xlabel='Length', ylabel='Count'>"
      ]
     },
     "execution_count": 24,
     "metadata": {},
     "output_type": "execute_result"
    },
    {
     "data": {
      "image/png": "[encoded data removed]",
      "text/plain": [
       "<Figure size 640x480 with 1 Axes>"
      ]
     },
     "metadata": {},
     "output_type": "display_data"
    }
   ],
   "source": [
    "sns.histplot(data=data, x='Length', hue='Delay', kde=True)"
   ]
  },
  {
   "attachments": {},
   "cell_type": "markdown",
   "metadata": {},
   "source": [
    "The distribution of flight length are the same shape."
   ]
  },
  {
   "attachments": {},
   "cell_type": "markdown",
   "metadata": {},
   "source": [
    "The ddistribution of Length seems to be skewed and for distribution of Time doesn't seem to be normal either."
   ]
  },
  {
   "attachments": {},
   "cell_type": "markdown",
   "metadata": {},
   "source": [
    "---"
   ]
  },
  {
   "attachments": {},
   "cell_type": "markdown",
   "metadata": {},
   "source": [
    "# 5. Feature Engineering"
   ]
  },
  {
   "cell_type": "code",
   "execution_count": 25,
   "metadata": {},
   "outputs": [],
   "source": [
    "# membuat salinan data untuk feature engineering\n",
    "data2 = data.copy()"
   ]
  },
  {
   "attachments": {},
   "cell_type": "markdown",
   "metadata": {},
   "source": [
    "## Split feature `X` and target `y`"
   ]
  },
  {
   "cell_type": "code",
   "execution_count": 26,
   "metadata": {},
   "outputs": [],
   "source": [
    "#split Fitur dan target\n",
    "X= data2.drop(['id', 'Delay'], axis=1)\n",
    "y= data2['Delay']"
   ]
  },
  {
   "attachments": {},
   "cell_type": "markdown",
   "metadata": {},
   "source": [
    "## Split dataset Train and Test"
   ]
  },
  {
   "attachments": {},
   "cell_type": "markdown",
   "metadata": {},
   "source": [
    "The dataset is separated into a train dataset for model training, and a test dataset for model testing. Separation is done with a ratio of 80% train and 20% test."
   ]
  },
  {
   "cell_type": "code",
   "execution_count": 27,
   "metadata": {},
   "outputs": [
    {
     "name": "stdout",
     "output_type": "stream",
     "text": [
      "Train Size : (431506, 7)\n",
      "Test Size : (107877, 7)\n"
     ]
    }
   ],
   "source": [
    "# Splitting data kepada data train dan data test\n",
    "X_train, X_test, y_train, y_test = train_test_split(X, y, test_size = 0.2, random_state = 42,\n",
    "                                                    stratify= y)\n",
    "\n",
    "print('Train Size :', X_train.shape)\n",
    "print('Test Size :', X_test.shape)"
   ]
  },
  {
   "cell_type": "code",
   "execution_count": 28,
   "metadata": {},
   "outputs": [],
   "source": [
    "X_train.reset_index(drop=True, inplace=True)\n",
    "X_test.reset_index(drop=True, inplace=True)\n",
    "y_train.reset_index(drop=True, inplace=True)\n",
    "y_test.reset_index(drop=True, inplace=True)"
   ]
  },
  {
   "attachments": {},
   "cell_type": "markdown",
   "metadata": {},
   "source": [
    "## Handling Outlier"
   ]
  },
  {
   "cell_type": "code",
   "execution_count": 29,
   "metadata": {},
   "outputs": [
    {
     "name": "stdout",
     "output_type": "stream",
     "text": [
      "['Time', 'Length']\n"
     ]
    }
   ],
   "source": [
    "print(num_cols)"
   ]
  },
  {
   "attachments": {},
   "cell_type": "markdown",
   "metadata": {},
   "source": [
    "### Check percentage of outlier"
   ]
  },
  {
   "cell_type": "code",
   "execution_count": 30,
   "metadata": {},
   "outputs": [
    {
     "name": "stdout",
     "output_type": "stream",
     "text": [
      "outlier percentage:\n",
      "Time      0.000000\n",
      "Length    4.748022\n",
      "dtype: float64\n"
     ]
    }
   ],
   "source": [
    "# IQR\n",
    "q1 = X_train[num_cols].quantile(0.25)\n",
    "q3 = X_train[num_cols].quantile(0.75)\n",
    "iqr = q3 - q1\n",
    "\n",
    "# lower dan upper limit\n",
    "lower_threshold = q1 - 1.5 * iqr\n",
    "upper_threshold = q3 + 1.5 * iqr\n",
    "\n",
    "# menghitung persentase outlier\n",
    "outlier_percentages = ((X_train[num_cols] < lower_threshold) | (X_train[num_cols] > upper_threshold)).mean() * 100\n",
    "\n",
    "print('outlier percentage:')\n",
    "print(outlier_percentages)"
   ]
  },
  {
   "cell_type": "code",
   "execution_count": 31,
   "metadata": {},
   "outputs": [
    {
     "data": {
      "image/png": "[encoded data removed]",
      "text/plain": [
       "<Figure size 1600x400 with 2 Axes>"
      ]
     },
     "metadata": {},
     "output_type": "display_data"
    }
   ],
   "source": [
    "plt.figure(figsize=(16, 4))\n",
    "\n",
    " # Histogram\n",
    "plt.subplot(1, 2, 1)\n",
    "sns.histplot(X_train['Length'], bins=20)\n",
    "plt.title('Histogram')\n",
    "\n",
    "    # Boxplot\n",
    "plt.subplot(1, 2, 2)\n",
    "sns.boxplot(y=X_train['Length'])\n",
    "plt.title('Boxplot')\n",
    "\n",
    "plt.show()"
   ]
  },
  {
   "attachments": {},
   "cell_type": "markdown",
   "metadata": {},
   "source": [
    "Outliers value seems to make sense because there are more that 10 hours flight between America. Since there are only 4% of outliers and the outliers is natural, these outliers won't be handled."
   ]
  },
  {
   "attachments": {},
   "cell_type": "markdown",
   "metadata": {},
   "source": [
    "## Split numeric and categorical features\n",
    "Numerical and categorical features has different ways of preprocessing, so we split them"
   ]
  },
  {
   "cell_type": "code",
   "execution_count": 32,
   "metadata": {},
   "outputs": [],
   "source": [
    "# pemisahan Train-Set dan Test-Set berdasarkan tipe kolom\n",
    "\n",
    "X_train_num = X_train[num_cols]\n",
    "X_test_num = X_test[num_cols]\n",
    "\n",
    "X_train_cat_num = X_train[cat_cols_number]\n",
    "X_test_cat_num = X_test[cat_cols_number]\n",
    "\n",
    "X_train_cat_obj = X_train[cat_cols_object]\n",
    "X_test_cat_obj = X_test[cat_cols_object]"
   ]
  },
  {
   "attachments": {},
   "cell_type": "markdown",
   "metadata": {},
   "source": [
    "## Feature Scaling"
   ]
  },
  {
   "attachments": {},
   "cell_type": "markdown",
   "metadata": {},
   "source": [
    "Before scaling, we check that the data is normally distributed or not using skewness. If the skewness value is between -0.5 to 0.5 then the distribution is normal, outside that value means it is not normal."
   ]
  },
  {
   "cell_type": "code",
   "execution_count": 33,
   "metadata": {},
   "outputs": [
    {
     "name": "stdout",
     "output_type": "stream",
     "text": [
      "skewness Time: 0.07886892545374338\n",
      "skewness Length: 1.493195712651307\n"
     ]
    }
   ],
   "source": [
    "print('skewness Time:', X_train['Time'].skew())\n",
    "print('skewness Length:', X_train['Length'].skew())"
   ]
  },
  {
   "attachments": {},
   "cell_type": "markdown",
   "metadata": {},
   "source": [
    "Time seems to be normally distributed and length is skewed. We will only use standard scaler."
   ]
  },
  {
   "cell_type": "code",
   "execution_count": 34,
   "metadata": {},
   "outputs": [
    {
     "data": {
      "text/html": [
       "<div>\n",
       "<style scoped>\n",
       "    .dataframe tbody tr th:only-of-type {\n",
       "        vertical-align: middle;\n",
       "    }\n",
       "\n",
       "    .dataframe tbody tr th {\n",
       "        vertical-align: top;\n",
       "    }\n",
       "\n",
       "    .dataframe thead th {\n",
       "        text-align: right;\n",
       "    }\n",
       "</style>\n",
       "<table border=\"1\" class=\"dataframe\">\n",
       "  <thead>\n",
       "    <tr style=\"text-align: right;\">\n",
       "      <th></th>\n",
       "      <th>Time</th>\n",
       "      <th>Length</th>\n",
       "    </tr>\n",
       "  </thead>\n",
       "  <tbody>\n",
       "    <tr>\n",
       "      <th>0</th>\n",
       "      <td>-1.051948</td>\n",
       "      <td>-0.716025</td>\n",
       "    </tr>\n",
       "    <tr>\n",
       "      <th>1</th>\n",
       "      <td>1.451163</td>\n",
       "      <td>-0.359207</td>\n",
       "    </tr>\n",
       "    <tr>\n",
       "      <th>2</th>\n",
       "      <td>1.861155</td>\n",
       "      <td>1.182249</td>\n",
       "    </tr>\n",
       "    <tr>\n",
       "      <th>3</th>\n",
       "      <td>0.512496</td>\n",
       "      <td>-1.115662</td>\n",
       "    </tr>\n",
       "    <tr>\n",
       "      <th>4</th>\n",
       "      <td>-0.278717</td>\n",
       "      <td>-0.901571</td>\n",
       "    </tr>\n",
       "  </tbody>\n",
       "</table>\n",
       "</div>"
      ],
      "text/plain": [
       "       Time    Length\n",
       "0 -1.051948 -0.716025\n",
       "1  1.451163 -0.359207\n",
       "2  1.861155  1.182249\n",
       "3  0.512496 -1.115662\n",
       "4 -0.278717 -0.901571"
      ]
     },
     "execution_count": 34,
     "metadata": {},
     "output_type": "execute_result"
    }
   ],
   "source": [
    "#scaling numeric features with minmax scaler\n",
    "scaler = StandardScaler()\n",
    "scaler.fit(X_train_num)\n",
    "\n",
    "X_train_num_scaled = scaler.transform(X_train_num)\n",
    "X_test_num_scaled = scaler.transform(X_test_num)\n",
    "X_train_num_scaled\n",
    "\n",
    "# dataframe to data array\n",
    "X_train_num_scaled = pd.DataFrame(X_train_num_scaled, columns = num_cols)\n",
    "X_test_num_scaled = pd.DataFrame(X_test_num_scaled, columns = num_cols)\n",
    "\n",
    "# reset index dataframe\n",
    "X_train_num_scaled.reset_index(drop = True, inplace = True)\n",
    "X_test_num_scaled.reset_index(drop = True, inplace = True)\n",
    "\n",
    "\n",
    "X_train_num_scaled.head()"
   ]
  },
  {
   "attachments": {},
   "cell_type": "markdown",
   "metadata": {},
   "source": [
    "## Feature Encoding\n",
    "In this section we will encode categorical column. The categorical feature only have nominal data, but since there is 293 different airport for departure and destination it will be hard for the model to use one hot encoder. \n",
    "\n",
    "When dealing with categorical columns that have a large number of unique values, using one-hot encoding can lead to a significant increase in the dimensionality of the dataset. This can result in a more complex and computationally expensive model. Therefore, inthis case we will use target encoder which replaces each category with the mean target value of the corresponding category."
   ]
  },
  {
   "cell_type": "code",
   "execution_count": 35,
   "metadata": {},
   "outputs": [
    {
     "data": {
      "text/html": [
       "<div>\n",
       "<style scoped>\n",
       "    .dataframe tbody tr th:only-of-type {\n",
       "        vertical-align: middle;\n",
       "    }\n",
       "\n",
       "    .dataframe tbody tr th {\n",
       "        vertical-align: top;\n",
       "    }\n",
       "\n",
       "    .dataframe thead th {\n",
       "        text-align: right;\n",
       "    }\n",
       "</style>\n",
       "<table border=\"1\" class=\"dataframe\">\n",
       "  <thead>\n",
       "    <tr style=\"text-align: right;\">\n",
       "      <th></th>\n",
       "      <th>Airline</th>\n",
       "      <th>AirportFrom</th>\n",
       "      <th>AirportTo</th>\n",
       "    </tr>\n",
       "  </thead>\n",
       "  <tbody>\n",
       "    <tr>\n",
       "      <th>0</th>\n",
       "      <td>0.334873</td>\n",
       "      <td>0.315586</td>\n",
       "      <td>0.394413</td>\n",
       "    </tr>\n",
       "    <tr>\n",
       "      <th>1</th>\n",
       "      <td>0.242277</td>\n",
       "      <td>0.308642</td>\n",
       "      <td>0.454976</td>\n",
       "    </tr>\n",
       "    <tr>\n",
       "      <th>2</th>\n",
       "      <td>0.341466</td>\n",
       "      <td>0.423311</td>\n",
       "      <td>0.442436</td>\n",
       "    </tr>\n",
       "    <tr>\n",
       "      <th>3</th>\n",
       "      <td>0.380153</td>\n",
       "      <td>0.484672</td>\n",
       "      <td>0.315634</td>\n",
       "    </tr>\n",
       "    <tr>\n",
       "      <th>4</th>\n",
       "      <td>0.380153</td>\n",
       "      <td>0.450247</td>\n",
       "      <td>0.435904</td>\n",
       "    </tr>\n",
       "  </tbody>\n",
       "</table>\n",
       "</div>"
      ],
      "text/plain": [
       "    Airline  AirportFrom  AirportTo\n",
       "0  0.334873     0.315586   0.394413\n",
       "1  0.242277     0.308642   0.454976\n",
       "2  0.341466     0.423311   0.442436\n",
       "3  0.380153     0.484672   0.315634\n",
       "4  0.380153     0.450247   0.435904"
      ]
     },
     "execution_count": 35,
     "metadata": {},
     "output_type": "execute_result"
    }
   ],
   "source": [
    "# Create an instance of TargetEncoder\n",
    "encoder = ce.TargetEncoder(cols=cat_cols_object)\n",
    "\n",
    "# Fit the encoder on the categorical columns and target values\n",
    "encoder.fit(X_train_cat_obj, y_train)\n",
    "\n",
    "# Apply the target encoding transformation to the categorical columns\n",
    "X_train_cat_obj_encoded = encoder.transform(X_train_cat_obj)\n",
    "X_test_cat_obj_encoded = encoder.transform(X_test_cat_obj)\n",
    "\n",
    "# dataframe to data array\n",
    "X_train_cat_obj_encoded = pd.DataFrame(X_train_cat_obj_encoded, columns = cat_cols_object)\n",
    "X_test_cat_obj_encoded = pd.DataFrame(X_test_cat_obj_encoded, columns = cat_cols_object)\n",
    "\n",
    "# reset index dataframe\n",
    "X_train_cat_obj_encoded.reset_index(drop = True, inplace = True)\n",
    "X_test_cat_obj_encoded.reset_index(drop = True, inplace = True)\n",
    "\n",
    "X_train_cat_obj_encoded.head()"
   ]
  },
  {
   "cell_type": "code",
   "execution_count": 36,
   "metadata": {},
   "outputs": [],
   "source": [
    "#Combining numerical and categorical data\n",
    "\n",
    "# Data Train\n",
    "X_train_manual = pd.concat([X_train_cat_num, X_train_num_scaled, X_train_cat_obj_encoded], axis = 1)\n",
    "\n",
    "# Data Test\n",
    "X_test_manual = pd.concat([X_test_cat_num, X_test_num_scaled, X_test_cat_obj_encoded], axis = 1)"
   ]
  },
  {
   "cell_type": "code",
   "execution_count": 37,
   "metadata": {},
   "outputs": [
    {
     "data": {
      "text/html": [
       "<div>\n",
       "<style scoped>\n",
       "    .dataframe tbody tr th:only-of-type {\n",
       "        vertical-align: middle;\n",
       "    }\n",
       "\n",
       "    .dataframe tbody tr th {\n",
       "        vertical-align: top;\n",
       "    }\n",
       "\n",
       "    .dataframe thead th {\n",
       "        text-align: right;\n",
       "    }\n",
       "</style>\n",
       "<table border=\"1\" class=\"dataframe\">\n",
       "  <thead>\n",
       "    <tr style=\"text-align: right;\">\n",
       "      <th></th>\n",
       "      <th>Flight</th>\n",
       "      <th>DayOfWeek</th>\n",
       "      <th>Time</th>\n",
       "      <th>Length</th>\n",
       "      <th>Airline</th>\n",
       "      <th>AirportFrom</th>\n",
       "      <th>AirportTo</th>\n",
       "    </tr>\n",
       "  </thead>\n",
       "  <tbody>\n",
       "    <tr>\n",
       "      <th>0</th>\n",
       "      <td>2024</td>\n",
       "      <td>5</td>\n",
       "      <td>-1.051948</td>\n",
       "      <td>-0.716025</td>\n",
       "      <td>0.334873</td>\n",
       "      <td>0.315586</td>\n",
       "      <td>0.394413</td>\n",
       "    </tr>\n",
       "    <tr>\n",
       "      <th>1</th>\n",
       "      <td>2895</td>\n",
       "      <td>7</td>\n",
       "      <td>1.451163</td>\n",
       "      <td>-0.359207</td>\n",
       "      <td>0.242277</td>\n",
       "      <td>0.308642</td>\n",
       "      <td>0.454976</td>\n",
       "    </tr>\n",
       "    <tr>\n",
       "      <th>2</th>\n",
       "      <td>731</td>\n",
       "      <td>5</td>\n",
       "      <td>1.861155</td>\n",
       "      <td>1.182249</td>\n",
       "      <td>0.341466</td>\n",
       "      <td>0.423311</td>\n",
       "      <td>0.442436</td>\n",
       "    </tr>\n",
       "    <tr>\n",
       "      <th>3</th>\n",
       "      <td>2442</td>\n",
       "      <td>3</td>\n",
       "      <td>0.512496</td>\n",
       "      <td>-1.115662</td>\n",
       "      <td>0.380153</td>\n",
       "      <td>0.484672</td>\n",
       "      <td>0.315634</td>\n",
       "    </tr>\n",
       "    <tr>\n",
       "      <th>4</th>\n",
       "      <td>2776</td>\n",
       "      <td>7</td>\n",
       "      <td>-0.278717</td>\n",
       "      <td>-0.901571</td>\n",
       "      <td>0.380153</td>\n",
       "      <td>0.450247</td>\n",
       "      <td>0.435904</td>\n",
       "    </tr>\n",
       "    <tr>\n",
       "      <th>...</th>\n",
       "      <td>...</td>\n",
       "      <td>...</td>\n",
       "      <td>...</td>\n",
       "      <td>...</td>\n",
       "      <td>...</td>\n",
       "      <td>...</td>\n",
       "      <td>...</td>\n",
       "    </tr>\n",
       "    <tr>\n",
       "      <th>431501</th>\n",
       "      <td>476</td>\n",
       "      <td>7</td>\n",
       "      <td>0.846964</td>\n",
       "      <td>-0.730298</td>\n",
       "      <td>0.326272</td>\n",
       "      <td>0.478742</td>\n",
       "      <td>0.384230</td>\n",
       "    </tr>\n",
       "    <tr>\n",
       "      <th>431502</th>\n",
       "      <td>1029</td>\n",
       "      <td>1</td>\n",
       "      <td>0.016190</td>\n",
       "      <td>-0.344934</td>\n",
       "      <td>0.449932</td>\n",
       "      <td>0.324778</td>\n",
       "      <td>0.382816</td>\n",
       "    </tr>\n",
       "    <tr>\n",
       "      <th>431503</th>\n",
       "      <td>673</td>\n",
       "      <td>3</td>\n",
       "      <td>-0.217578</td>\n",
       "      <td>0.382976</td>\n",
       "      <td>0.326272</td>\n",
       "      <td>0.481318</td>\n",
       "      <td>0.321288</td>\n",
       "    </tr>\n",
       "    <tr>\n",
       "      <th>431504</th>\n",
       "      <td>3</td>\n",
       "      <td>4</td>\n",
       "      <td>-1.267733</td>\n",
       "      <td>-1.030025</td>\n",
       "      <td>0.697105</td>\n",
       "      <td>0.711211</td>\n",
       "      <td>0.624150</td>\n",
       "    </tr>\n",
       "    <tr>\n",
       "      <th>431505</th>\n",
       "      <td>1394</td>\n",
       "      <td>6</td>\n",
       "      <td>-0.944055</td>\n",
       "      <td>0.325885</td>\n",
       "      <td>0.388565</td>\n",
       "      <td>0.395019</td>\n",
       "      <td>0.544149</td>\n",
       "    </tr>\n",
       "  </tbody>\n",
       "</table>\n",
       "<p>431506 rows × 7 columns</p>\n",
       "</div>"
      ],
      "text/plain": [
       "        Flight  DayOfWeek      Time    Length   Airline  AirportFrom  \\\n",
       "0         2024          5 -1.051948 -0.716025  0.334873     0.315586   \n",
       "1         2895          7  1.451163 -0.359207  0.242277     0.308642   \n",
       "2          731          5  1.861155  1.182249  0.341466     0.423311   \n",
       "3         2442          3  0.512496 -1.115662  0.380153     0.484672   \n",
       "4         2776          7 -0.278717 -0.901571  0.380153     0.450247   \n",
       "...        ...        ...       ...       ...       ...          ...   \n",
       "431501     476          7  0.846964 -0.730298  0.326272     0.478742   \n",
       "431502    1029          1  0.016190 -0.344934  0.449932     0.324778   \n",
       "431503     673          3 -0.217578  0.382976  0.326272     0.481318   \n",
       "431504       3          4 -1.267733 -1.030025  0.697105     0.711211   \n",
       "431505    1394          6 -0.944055  0.325885  0.388565     0.395019   \n",
       "\n",
       "        AirportTo  \n",
       "0        0.394413  \n",
       "1        0.454976  \n",
       "2        0.442436  \n",
       "3        0.315634  \n",
       "4        0.435904  \n",
       "...           ...  \n",
       "431501   0.384230  \n",
       "431502   0.382816  \n",
       "431503   0.321288  \n",
       "431504   0.624150  \n",
       "431505   0.544149  \n",
       "\n",
       "[431506 rows x 7 columns]"
      ]
     },
     "execution_count": 37,
     "metadata": {},
     "output_type": "execute_result"
    }
   ],
   "source": [
    "X_train_manual"
   ]
  },
  {
   "cell_type": "code",
   "execution_count": 38,
   "metadata": {},
   "outputs": [
    {
     "name": "stdout",
     "output_type": "stream",
     "text": [
      "X_train shape:  431506\n",
      "X_test shape:  107877\n",
      "y_train shape:  431506\n",
      "y_test shape:  107877\n"
     ]
    }
   ],
   "source": [
    "print('X_train shape: ',X_train_manual.shape[0])\n",
    "print('X_test shape: ',X_test_manual.shape[0])\n",
    "print('y_train shape: ',y_train.shape[0])\n",
    "print('y_test shape: ',X_test.shape[0])"
   ]
  },
  {
   "attachments": {},
   "cell_type": "markdown",
   "metadata": {},
   "source": [
    "## Pipeline\n",
    "What we have done for preprocessing so far:\n",
    "1. Scaling numeric features with standard scaler\n",
    "2. Encoding categorical features with target encoder\n",
    "\n",
    "We will build preprocessing pipeline that do the things above"
   ]
  },
  {
   "cell_type": "code",
   "execution_count": 39,
   "metadata": {},
   "outputs": [
    {
     "data": {
      "text/html": [
       "<style>#sk-container-id-1 {color: black;background-color: white;}#sk-container-id-1 pre{padding: 0;}#sk-container-id-1 div.sk-toggleable {background-color: white;}#sk-container-id-1 label.sk-toggleable__label {cursor: pointer;display: block;width: 100%;margin-bottom: 0;padding: 0.3em;box-sizing: border-box;text-align: center;}#sk-container-id-1 label.sk-toggleable__label-arrow:before {content: \"▸\";float: left;margin-right: 0.25em;color: #696969;}#sk-container-id-1 label.sk-toggleable__label-arrow:hover:before {color: black;}#sk-container-id-1 div.sk-estimator:hover label.sk-toggleable__label-arrow:before {color: black;}#sk-container-id-1 div.sk-toggleable__content {max-height: 0;max-width: 0;overflow: hidden;text-align: left;background-color: #f0f8ff;}#sk-container-id-1 div.sk-toggleable__content pre {margin: 0.2em;color: black;border-radius: 0.25em;background-color: #f0f8ff;}#sk-container-id-1 input.sk-toggleable__control:checked~div.sk-toggleable__content {max-height: 200px;max-width: 100%;overflow: auto;}#sk-container-id-1 input.sk-toggleable__control:checked~label.sk-toggleable__label-arrow:before {content: \"▾\";}#sk-container-id-1 div.sk-estimator input.sk-toggleable__control:checked~label.sk-toggleable__label {background-color: #d4ebff;}#sk-container-id-1 div.sk-label input.sk-toggleable__control:checked~label.sk-toggleable__label {background-color: #d4ebff;}#sk-container-id-1 input.sk-hidden--visually {border: 0;clip: rect(1px 1px 1px 1px);clip: rect(1px, 1px, 1px, 1px);height: 1px;margin: -1px;overflow: hidden;padding: 0;position: absolute;width: 1px;}#sk-container-id-1 div.sk-estimator {font-family: monospace;background-color: #f0f8ff;border: 1px dotted black;border-radius: 0.25em;box-sizing: border-box;margin-bottom: 0.5em;}#sk-container-id-1 div.sk-estimator:hover {background-color: #d4ebff;}#sk-container-id-1 div.sk-parallel-item::after {content: \"\";width: 100%;border-bottom: 1px solid gray;flex-grow: 1;}#sk-container-id-1 div.sk-label:hover label.sk-toggleable__label {background-color: #d4ebff;}#sk-container-id-1 div.sk-serial::before {content: \"\";position: absolute;border-left: 1px solid gray;box-sizing: border-box;top: 0;bottom: 0;left: 50%;z-index: 0;}#sk-container-id-1 div.sk-serial {display: flex;flex-direction: column;align-items: center;background-color: white;padding-right: 0.2em;padding-left: 0.2em;position: relative;}#sk-container-id-1 div.sk-item {position: relative;z-index: 1;}#sk-container-id-1 div.sk-parallel {display: flex;align-items: stretch;justify-content: center;background-color: white;position: relative;}#sk-container-id-1 div.sk-item::before, #sk-container-id-1 div.sk-parallel-item::before {content: \"\";position: absolute;border-left: 1px solid gray;box-sizing: border-box;top: 0;bottom: 0;left: 50%;z-index: -1;}#sk-container-id-1 div.sk-parallel-item {display: flex;flex-direction: column;z-index: 1;position: relative;background-color: white;}#sk-container-id-1 div.sk-parallel-item:first-child::after {align-self: flex-end;width: 50%;}#sk-container-id-1 div.sk-parallel-item:last-child::after {align-self: flex-start;width: 50%;}#sk-container-id-1 div.sk-parallel-item:only-child::after {width: 0;}#sk-container-id-1 div.sk-dashed-wrapped {border: 1px dashed gray;margin: 0 0.4em 0.5em 0.4em;box-sizing: border-box;padding-bottom: 0.4em;background-color: white;}#sk-container-id-1 div.sk-label label {font-family: monospace;font-weight: bold;display: inline-block;line-height: 1.2em;}#sk-container-id-1 div.sk-label-container {text-align: center;}#sk-container-id-1 div.sk-container {/* jupyter's `normalize.less` sets `[hidden] { display: none; }` but bootstrap.min.css set `[hidden] { display: none !important; }` so we also need the `!important` here to be able to override the default hidden behavior on the sphinx rendered scikit-learn.org. See: https://github.com/scikit-learn/scikit-learn/issues/21755 */display: inline-block !important;position: relative;}#sk-container-id-1 div.sk-text-repr-fallback {display: none;}</style><div id=\"sk-container-id-1\" class=\"sk-top-container\"><div class=\"sk-text-repr-fallback\"><pre>Pipeline(steps=[(&#x27;preprocessor&#x27;,\n",
       "                 ColumnTransformer(remainder=&#x27;passthrough&#x27;,\n",
       "                                   transformers=[(&#x27;target_encode&#x27;,\n",
       "                                                  TargetEncoder(cols=[&#x27;Airline&#x27;,\n",
       "                                                                      &#x27;AirportFrom&#x27;,\n",
       "                                                                      &#x27;AirportTo&#x27;]),\n",
       "                                                  [&#x27;Airline&#x27;, &#x27;AirportFrom&#x27;,\n",
       "                                                   &#x27;AirportTo&#x27;]),\n",
       "                                                 (&#x27;scale&#x27;, StandardScaler(),\n",
       "                                                  [&#x27;Time&#x27;, &#x27;Length&#x27;])]))])</pre><b>In a Jupyter environment, please rerun this cell to show the HTML representation or trust the notebook. <br />On GitHub, the HTML representation is unable to render, please try loading this page with nbviewer.org.</b></div><div class=\"sk-container\" hidden><div class=\"sk-item sk-dashed-wrapped\"><div class=\"sk-label-container\"><div class=\"sk-label sk-toggleable\"><input class=\"sk-toggleable__control sk-hidden--visually\" id=\"sk-estimator-id-1\" type=\"checkbox\" ><label for=\"sk-estimator-id-1\" class=\"sk-toggleable__label sk-toggleable__label-arrow\">Pipeline</label><div class=\"sk-toggleable__content\"><pre>Pipeline(steps=[(&#x27;preprocessor&#x27;,\n",
       "                 ColumnTransformer(remainder=&#x27;passthrough&#x27;,\n",
       "                                   transformers=[(&#x27;target_encode&#x27;,\n",
       "                                                  TargetEncoder(cols=[&#x27;Airline&#x27;,\n",
       "                                                                      &#x27;AirportFrom&#x27;,\n",
       "                                                                      &#x27;AirportTo&#x27;]),\n",
       "                                                  [&#x27;Airline&#x27;, &#x27;AirportFrom&#x27;,\n",
       "                                                   &#x27;AirportTo&#x27;]),\n",
       "                                                 (&#x27;scale&#x27;, StandardScaler(),\n",
       "                                                  [&#x27;Time&#x27;, &#x27;Length&#x27;])]))])</pre></div></div></div><div class=\"sk-serial\"><div class=\"sk-item sk-dashed-wrapped\"><div class=\"sk-label-container\"><div class=\"sk-label sk-toggleable\"><input class=\"sk-toggleable__control sk-hidden--visually\" id=\"sk-estimator-id-2\" type=\"checkbox\" ><label for=\"sk-estimator-id-2\" class=\"sk-toggleable__label sk-toggleable__label-arrow\">preprocessor: ColumnTransformer</label><div class=\"sk-toggleable__content\"><pre>ColumnTransformer(remainder=&#x27;passthrough&#x27;,\n",
       "                  transformers=[(&#x27;target_encode&#x27;,\n",
       "                                 TargetEncoder(cols=[&#x27;Airline&#x27;, &#x27;AirportFrom&#x27;,\n",
       "                                                     &#x27;AirportTo&#x27;]),\n",
       "                                 [&#x27;Airline&#x27;, &#x27;AirportFrom&#x27;, &#x27;AirportTo&#x27;]),\n",
       "                                (&#x27;scale&#x27;, StandardScaler(),\n",
       "                                 [&#x27;Time&#x27;, &#x27;Length&#x27;])])</pre></div></div></div><div class=\"sk-parallel\"><div class=\"sk-parallel-item\"><div class=\"sk-item\"><div class=\"sk-label-container\"><div class=\"sk-label sk-toggleable\"><input class=\"sk-toggleable__control sk-hidden--visually\" id=\"sk-estimator-id-3\" type=\"checkbox\" ><label for=\"sk-estimator-id-3\" class=\"sk-toggleable__label sk-toggleable__label-arrow\">target_encode</label><div class=\"sk-toggleable__content\"><pre>[&#x27;Airline&#x27;, &#x27;AirportFrom&#x27;, &#x27;AirportTo&#x27;]</pre></div></div></div><div class=\"sk-serial\"><div class=\"sk-item\"><div class=\"sk-estimator sk-toggleable\"><input class=\"sk-toggleable__control sk-hidden--visually\" id=\"sk-estimator-id-4\" type=\"checkbox\" ><label for=\"sk-estimator-id-4\" class=\"sk-toggleable__label sk-toggleable__label-arrow\">TargetEncoder</label><div class=\"sk-toggleable__content\"><pre>TargetEncoder(cols=[&#x27;Airline&#x27;, &#x27;AirportFrom&#x27;, &#x27;AirportTo&#x27;])</pre></div></div></div></div></div></div><div class=\"sk-parallel-item\"><div class=\"sk-item\"><div class=\"sk-label-container\"><div class=\"sk-label sk-toggleable\"><input class=\"sk-toggleable__control sk-hidden--visually\" id=\"sk-estimator-id-5\" type=\"checkbox\" ><label for=\"sk-estimator-id-5\" class=\"sk-toggleable__label sk-toggleable__label-arrow\">scale</label><div class=\"sk-toggleable__content\"><pre>[&#x27;Time&#x27;, &#x27;Length&#x27;]</pre></div></div></div><div class=\"sk-serial\"><div class=\"sk-item\"><div class=\"sk-estimator sk-toggleable\"><input class=\"sk-toggleable__control sk-hidden--visually\" id=\"sk-estimator-id-6\" type=\"checkbox\" ><label for=\"sk-estimator-id-6\" class=\"sk-toggleable__label sk-toggleable__label-arrow\">StandardScaler</label><div class=\"sk-toggleable__content\"><pre>StandardScaler()</pre></div></div></div></div></div></div><div class=\"sk-parallel-item\"><div class=\"sk-item\"><div class=\"sk-label-container\"><div class=\"sk-label sk-toggleable\"><input class=\"sk-toggleable__control sk-hidden--visually\" id=\"sk-estimator-id-7\" type=\"checkbox\" ><label for=\"sk-estimator-id-7\" class=\"sk-toggleable__label sk-toggleable__label-arrow\">remainder</label><div class=\"sk-toggleable__content\"><pre>[&#x27;Flight&#x27;, &#x27;DayOfWeek&#x27;]</pre></div></div></div><div class=\"sk-serial\"><div class=\"sk-item\"><div class=\"sk-estimator sk-toggleable\"><input class=\"sk-toggleable__control sk-hidden--visually\" id=\"sk-estimator-id-8\" type=\"checkbox\" ><label for=\"sk-estimator-id-8\" class=\"sk-toggleable__label sk-toggleable__label-arrow\">passthrough</label><div class=\"sk-toggleable__content\"><pre>passthrough</pre></div></div></div></div></div></div></div></div></div></div></div></div>"
      ],
      "text/plain": [
       "Pipeline(steps=[('preprocessor',\n",
       "                 ColumnTransformer(remainder='passthrough',\n",
       "                                   transformers=[('target_encode',\n",
       "                                                  TargetEncoder(cols=['Airline',\n",
       "                                                                      'AirportFrom',\n",
       "                                                                      'AirportTo']),\n",
       "                                                  ['Airline', 'AirportFrom',\n",
       "                                                   'AirportTo']),\n",
       "                                                 ('scale', StandardScaler(),\n",
       "                                                  ['Time', 'Length'])]))])"
      ]
     },
     "execution_count": 39,
     "metadata": {},
     "output_type": "execute_result"
    }
   ],
   "source": [
    "# Define the column transformer\n",
    "preprocessor = ColumnTransformer(\n",
    "    transformers=[\n",
    "        ('target_encode', encoder, cat_cols_object),\n",
    "        ('scale', StandardScaler(), num_cols)\n",
    "    ], remainder='passthrough')\n",
    "# Define the pipeline\n",
    "preprocess_pipeline = Pipeline(steps=[\n",
    "    ('preprocessor', preprocessor)\n",
    "])\n",
    "# Fit pipeline with X_train\n",
    "preprocess_pipeline.fit(X_train,y_train)"
   ]
  },
  {
   "cell_type": "code",
   "execution_count": 40,
   "metadata": {},
   "outputs": [],
   "source": [
    "# # Numeric pipeline\n",
    "# numeric_pipeline = Pipeline([\n",
    "#     ('winsorize', Winsorizer(capping_method='iqr', tail='both')),\n",
    "#     ('scale', StandardScaler())\n",
    "# ])\n",
    "\n",
    "# # ColumnTransformer\n",
    "# preprocessor = ColumnTransformer([\n",
    "#     ('numeric', numeric_pipeline, num_cols),\n",
    "#     ('categorical', encoder, cat_cols_object)\n",
    "# ], remainder='passthrough')\n",
    "\n",
    "# # Combine numeric and categorical pipelines\n",
    "# preprocess_pipeline = Pipeline([\n",
    "#     ('preprocessor', preprocessor)\n",
    "# ])\n",
    "\n",
    "# # Fit pipeline with X_train\n",
    "# preprocess_pipeline.fit(X_train, y_train)"
   ]
  },
  {
   "cell_type": "code",
   "execution_count": 41,
   "metadata": {},
   "outputs": [],
   "source": [
    "X_train_pipeline = preprocess_pipeline.transform(X_train)"
   ]
  },
  {
   "attachments": {},
   "cell_type": "markdown",
   "metadata": {},
   "source": [
    "The value of pipeline transform is the same as manual transform, so the pipeline works. We will use the pipeline for data inference later."
   ]
  },
  {
   "cell_type": "code",
   "execution_count": 42,
   "metadata": {},
   "outputs": [],
   "source": [
    "X_test_pipeline = preprocess_pipeline.transform(X_test)"
   ]
  },
  {
   "cell_type": "code",
   "execution_count": 43,
   "metadata": {},
   "outputs": [
    {
     "data": {
      "text/html": [
       "<div>\n",
       "<style scoped>\n",
       "    .dataframe tbody tr th:only-of-type {\n",
       "        vertical-align: middle;\n",
       "    }\n",
       "\n",
       "    .dataframe tbody tr th {\n",
       "        vertical-align: top;\n",
       "    }\n",
       "\n",
       "    .dataframe thead th {\n",
       "        text-align: right;\n",
       "    }\n",
       "</style>\n",
       "<table border=\"1\" class=\"dataframe\">\n",
       "  <thead>\n",
       "    <tr style=\"text-align: right;\">\n",
       "      <th></th>\n",
       "      <th>Airline</th>\n",
       "      <th>AirportFrom</th>\n",
       "      <th>AirportTo</th>\n",
       "      <th>Time</th>\n",
       "      <th>Length</th>\n",
       "      <th>Flight</th>\n",
       "      <th>DayOfWeek</th>\n",
       "    </tr>\n",
       "  </thead>\n",
       "  <tbody>\n",
       "    <tr>\n",
       "      <th>0</th>\n",
       "      <td>0.334873</td>\n",
       "      <td>0.315586</td>\n",
       "      <td>0.394413</td>\n",
       "      <td>-1.051948</td>\n",
       "      <td>-0.716025</td>\n",
       "      <td>2024.0</td>\n",
       "      <td>5.0</td>\n",
       "    </tr>\n",
       "    <tr>\n",
       "      <th>1</th>\n",
       "      <td>0.242277</td>\n",
       "      <td>0.308642</td>\n",
       "      <td>0.454976</td>\n",
       "      <td>1.451163</td>\n",
       "      <td>-0.359207</td>\n",
       "      <td>2895.0</td>\n",
       "      <td>7.0</td>\n",
       "    </tr>\n",
       "    <tr>\n",
       "      <th>2</th>\n",
       "      <td>0.341466</td>\n",
       "      <td>0.423311</td>\n",
       "      <td>0.442436</td>\n",
       "      <td>1.861155</td>\n",
       "      <td>1.182249</td>\n",
       "      <td>731.0</td>\n",
       "      <td>5.0</td>\n",
       "    </tr>\n",
       "    <tr>\n",
       "      <th>3</th>\n",
       "      <td>0.380153</td>\n",
       "      <td>0.484672</td>\n",
       "      <td>0.315634</td>\n",
       "      <td>0.512496</td>\n",
       "      <td>-1.115662</td>\n",
       "      <td>2442.0</td>\n",
       "      <td>3.0</td>\n",
       "    </tr>\n",
       "    <tr>\n",
       "      <th>4</th>\n",
       "      <td>0.380153</td>\n",
       "      <td>0.450247</td>\n",
       "      <td>0.435904</td>\n",
       "      <td>-0.278717</td>\n",
       "      <td>-0.901571</td>\n",
       "      <td>2776.0</td>\n",
       "      <td>7.0</td>\n",
       "    </tr>\n",
       "    <tr>\n",
       "      <th>...</th>\n",
       "      <td>...</td>\n",
       "      <td>...</td>\n",
       "      <td>...</td>\n",
       "      <td>...</td>\n",
       "      <td>...</td>\n",
       "      <td>...</td>\n",
       "      <td>...</td>\n",
       "    </tr>\n",
       "    <tr>\n",
       "      <th>431501</th>\n",
       "      <td>0.326272</td>\n",
       "      <td>0.478742</td>\n",
       "      <td>0.384230</td>\n",
       "      <td>0.846964</td>\n",
       "      <td>-0.730298</td>\n",
       "      <td>476.0</td>\n",
       "      <td>7.0</td>\n",
       "    </tr>\n",
       "    <tr>\n",
       "      <th>431502</th>\n",
       "      <td>0.449932</td>\n",
       "      <td>0.324778</td>\n",
       "      <td>0.382816</td>\n",
       "      <td>0.016190</td>\n",
       "      <td>-0.344934</td>\n",
       "      <td>1029.0</td>\n",
       "      <td>1.0</td>\n",
       "    </tr>\n",
       "    <tr>\n",
       "      <th>431503</th>\n",
       "      <td>0.326272</td>\n",
       "      <td>0.481318</td>\n",
       "      <td>0.321288</td>\n",
       "      <td>-0.217578</td>\n",
       "      <td>0.382976</td>\n",
       "      <td>673.0</td>\n",
       "      <td>3.0</td>\n",
       "    </tr>\n",
       "    <tr>\n",
       "      <th>431504</th>\n",
       "      <td>0.697105</td>\n",
       "      <td>0.711211</td>\n",
       "      <td>0.624150</td>\n",
       "      <td>-1.267733</td>\n",
       "      <td>-1.030025</td>\n",
       "      <td>3.0</td>\n",
       "      <td>4.0</td>\n",
       "    </tr>\n",
       "    <tr>\n",
       "      <th>431505</th>\n",
       "      <td>0.388565</td>\n",
       "      <td>0.395019</td>\n",
       "      <td>0.544149</td>\n",
       "      <td>-0.944055</td>\n",
       "      <td>0.325885</td>\n",
       "      <td>1394.0</td>\n",
       "      <td>6.0</td>\n",
       "    </tr>\n",
       "  </tbody>\n",
       "</table>\n",
       "<p>431506 rows × 7 columns</p>\n",
       "</div>"
      ],
      "text/plain": [
       "         Airline  AirportFrom  AirportTo      Time    Length  Flight  \\\n",
       "0       0.334873     0.315586   0.394413 -1.051948 -0.716025  2024.0   \n",
       "1       0.242277     0.308642   0.454976  1.451163 -0.359207  2895.0   \n",
       "2       0.341466     0.423311   0.442436  1.861155  1.182249   731.0   \n",
       "3       0.380153     0.484672   0.315634  0.512496 -1.115662  2442.0   \n",
       "4       0.380153     0.450247   0.435904 -0.278717 -0.901571  2776.0   \n",
       "...          ...          ...        ...       ...       ...     ...   \n",
       "431501  0.326272     0.478742   0.384230  0.846964 -0.730298   476.0   \n",
       "431502  0.449932     0.324778   0.382816  0.016190 -0.344934  1029.0   \n",
       "431503  0.326272     0.481318   0.321288 -0.217578  0.382976   673.0   \n",
       "431504  0.697105     0.711211   0.624150 -1.267733 -1.030025     3.0   \n",
       "431505  0.388565     0.395019   0.544149 -0.944055  0.325885  1394.0   \n",
       "\n",
       "        DayOfWeek  \n",
       "0             5.0  \n",
       "1             7.0  \n",
       "2             5.0  \n",
       "3             3.0  \n",
       "4             7.0  \n",
       "...           ...  \n",
       "431501        7.0  \n",
       "431502        1.0  \n",
       "431503        3.0  \n",
       "431504        4.0  \n",
       "431505        6.0  \n",
       "\n",
       "[431506 rows x 7 columns]"
      ]
     },
     "execution_count": 43,
     "metadata": {},
     "output_type": "execute_result"
    }
   ],
   "source": [
    "# See if the value is the same as manual transform\n",
    "X_train_pipeline_df = pd.DataFrame(X_train_pipeline, columns=['Airline', 'AirportFrom', 'AirportTo', 'Time', 'Length', 'Flight', 'DayOfWeek'])\n",
    "X_test_pipeline_df = pd.DataFrame(X_test_pipeline, columns=['Airline', 'AirportFrom', 'AirportTo', 'Time', 'Length', 'Flight', 'DayOfWeek'])\n",
    "X_train_pipeline_df"
   ]
  },
  {
   "attachments": {},
   "cell_type": "markdown",
   "metadata": {},
   "source": [
    "## Feature Selection"
   ]
  },
  {
   "attachments": {},
   "cell_type": "markdown",
   "metadata": {},
   "source": [
    "In this section the features that affect the target categorization will be selected. The feature selection technique used is chi-square for categorical features and ANOVA for numerical features. These two features were chosen because the target to be searched for is categorical data.\n",
    "\n",
    "For chi-square tests, a p-value less than 0.05 indicates that there is a significant association between the categorical variables being compared. In this case, a p-value below 0.05 suggests that the variables are not independent and may be considered important in relation to each other.\n",
    "\n",
    "For ANOVA (Analysis of Variance) tests, a p-value less than 0.05 suggests that there is a significant difference between the means of the groups being compared. In this case, a p-value below 0.05 indicates that there is evidence of a statistically significant difference among the groups, and the factor being tested may be considered important in explaining the variation in the dependent variable."
   ]
  },
  {
   "cell_type": "code",
   "execution_count": 44,
   "metadata": {},
   "outputs": [
    {
     "data": {
      "text/html": [
       "<div>\n",
       "<style scoped>\n",
       "    .dataframe tbody tr th:only-of-type {\n",
       "        vertical-align: middle;\n",
       "    }\n",
       "\n",
       "    .dataframe tbody tr th {\n",
       "        vertical-align: top;\n",
       "    }\n",
       "\n",
       "    .dataframe thead th {\n",
       "        text-align: right;\n",
       "    }\n",
       "</style>\n",
       "<table border=\"1\" class=\"dataframe\">\n",
       "  <thead>\n",
       "    <tr style=\"text-align: right;\">\n",
       "      <th></th>\n",
       "      <th>Feature</th>\n",
       "      <th>Score</th>\n",
       "      <th>p-value</th>\n",
       "    </tr>\n",
       "  </thead>\n",
       "  <tbody>\n",
       "    <tr>\n",
       "      <th>0</th>\n",
       "      <td>Flight</td>\n",
       "      <td>1.646719e+06</td>\n",
       "      <td>0.0</td>\n",
       "    </tr>\n",
       "    <tr>\n",
       "      <th>1</th>\n",
       "      <td>Airline</td>\n",
       "      <td>1.192823e+03</td>\n",
       "      <td>0.0</td>\n",
       "    </tr>\n",
       "    <tr>\n",
       "      <th>2</th>\n",
       "      <td>DayOfWeek</td>\n",
       "      <td>2.910515e+02</td>\n",
       "      <td>0.0</td>\n",
       "    </tr>\n",
       "    <tr>\n",
       "      <th>3</th>\n",
       "      <td>AirportFrom</td>\n",
       "      <td>2.505658e+02</td>\n",
       "      <td>0.0</td>\n",
       "    </tr>\n",
       "    <tr>\n",
       "      <th>4</th>\n",
       "      <td>AirportTo</td>\n",
       "      <td>1.871921e+02</td>\n",
       "      <td>0.0</td>\n",
       "    </tr>\n",
       "    <tr>\n",
       "      <th>5</th>\n",
       "      <td>Time</td>\n",
       "      <td>9.972446e+03</td>\n",
       "      <td>0.0</td>\n",
       "    </tr>\n",
       "    <tr>\n",
       "      <th>6</th>\n",
       "      <td>Length</td>\n",
       "      <td>7.267386e+02</td>\n",
       "      <td>0.0</td>\n",
       "    </tr>\n",
       "  </tbody>\n",
       "</table>\n",
       "</div>"
      ],
      "text/plain": [
       "       Feature         Score  p-value\n",
       "0       Flight  1.646719e+06      0.0\n",
       "1      Airline  1.192823e+03      0.0\n",
       "2    DayOfWeek  2.910515e+02      0.0\n",
       "3  AirportFrom  2.505658e+02      0.0\n",
       "4    AirportTo  1.871921e+02      0.0\n",
       "5         Time  9.972446e+03      0.0\n",
       "6       Length  7.267386e+02      0.0"
      ]
     },
     "execution_count": 44,
     "metadata": {},
     "output_type": "execute_result"
    }
   ],
   "source": [
    "cat_cols = ['Airline', 'AirportFrom', 'AirportTo','Flight','DayOfWeek']\n",
    "\n",
    "# Select categorical features\n",
    "X_train_categorical = X_train_manual[cat_cols]\n",
    "\n",
    "# Select numerical features\n",
    "X_train_numerical = X_train_manual[num_cols]\n",
    "\n",
    "# Apply feature selection to categorical features using chi-square\n",
    "selector_categorical = SelectKBest(score_func=chi2, k='all')\n",
    "selector_categorical.fit(X_train_categorical, y_train)\n",
    "\n",
    "df_scores_categorical = pd.DataFrame({'Feature': X_train_categorical.columns,\n",
    "                                      'Score': selector_categorical.scores_,\n",
    "                                      'p-value': selector_categorical.pvalues_.round(4)})\n",
    "\n",
    "df_scores_categorical = df_scores_categorical.sort_values(by='Score', ascending=False)\n",
    "\n",
    "# Apply feature selection to numerical features using ANOVA F-value\n",
    "selector_numerical = SelectKBest(score_func=f_classif, k='all')\n",
    "selector_numerical.fit(X_train_numerical, y_train)\n",
    "\n",
    "df_scores_numerical = pd.DataFrame({'Feature': X_train_numerical.columns,\n",
    "                                    'Score': selector_numerical.scores_,\n",
    "                                    'p-value': selector_numerical.pvalues_.round(4)})\n",
    "\n",
    "df_scores_numerical = df_scores_numerical.sort_values(by='Score', ascending=False)\n",
    "\n",
    "# Merge the results\n",
    "df_scores = pd.concat([df_scores_categorical, df_scores_numerical], ignore_index=True)\n",
    "\n",
    "df_scores"
   ]
  },
  {
   "cell_type": "code",
   "execution_count": 45,
   "metadata": {},
   "outputs": [
    {
     "name": "stdout",
     "output_type": "stream",
     "text": [
      "['Airline', 'Flight', 'AirportFrom', 'AirportTo', 'DayOfWeek', 'Time', 'Length']\n"
     ]
    }
   ],
   "source": [
    "print(X_train.columns.tolist())"
   ]
  },
  {
   "attachments": {},
   "cell_type": "markdown",
   "metadata": {},
   "source": [
    "From the table (chi-square and ANOVA), features that have a p-value of <0.05 are considered important, hence we will use all of these features.\n",
    "\n"
   ]
  },
  {
   "attachments": {},
   "cell_type": "markdown",
   "metadata": {},
   "source": [
    "---"
   ]
  },
  {
   "attachments": {},
   "cell_type": "markdown",
   "metadata": {},
   "source": [
    "# 6. Model Definition"
   ]
  },
  {
   "cell_type": "code",
   "execution_count": 46,
   "metadata": {},
   "outputs": [],
   "source": [
    "# Definisi model logistic regression\n",
    "log_model = LogisticRegression()\n",
    "\n",
    "# Definisi model KNN\n",
    "knn_model = KNeighborsClassifier()\n",
    "\n",
    "# Definisi model Decision Tree\n",
    "destree_model = DecisionTreeClassifier()\n",
    "\n",
    "# Definisi mdoel Random Forest\n",
    "rf_model = RandomForestClassifier()\n",
    "\n",
    "# Definisi model lainnya\n",
    "gbc_model = GradientBoostingClassifier()"
   ]
  },
  {
   "attachments": {},
   "cell_type": "markdown",
   "metadata": {},
   "source": [
    "---"
   ]
  },
  {
   "attachments": {},
   "cell_type": "markdown",
   "metadata": {},
   "source": [
    "# 7. Model Training"
   ]
  },
  {
   "attachments": {},
   "cell_type": "markdown",
   "metadata": {},
   "source": [
    "## Cross Validation\n",
    "Each model will be cross-validated 5 times. The model with the best mean cross validation results will be hyperparameter tunning. The metrics used to evaluate is recall."
   ]
  },
  {
   "cell_type": "code",
   "execution_count": 47,
   "metadata": {},
   "outputs": [],
   "source": [
    "# logistic regression\n",
    "score_log = cross_val_score(log_model, X_train_pipeline, y_train, cv=5, scoring='recall',n_jobs=-1)"
   ]
  },
  {
   "cell_type": "code",
   "execution_count": 48,
   "metadata": {},
   "outputs": [],
   "source": [
    "# Decision tree\n",
    "score_dt = cross_val_score(destree_model, X_train_pipeline, y_train, cv=5, scoring='recall',n_jobs=-1)"
   ]
  },
  {
   "cell_type": "code",
   "execution_count": 49,
   "metadata": {},
   "outputs": [],
   "source": [
    "#Random Forest\n",
    "score_rf = cross_val_score(rf_model, X_train_pipeline, y_train, cv=5, scoring='recall',n_jobs=-1)"
   ]
  },
  {
   "cell_type": "code",
   "execution_count": 50,
   "metadata": {},
   "outputs": [],
   "source": [
    "#Gradient Boosting\n",
    "score_gbc = cross_val_score(gbc_model, X_train_pipeline, y_train, cv=5, scoring='recall',n_jobs=-1)"
   ]
  },
  {
   "cell_type": "code",
   "execution_count": 51,
   "metadata": {},
   "outputs": [],
   "source": [
    "# knn\n",
    "score_knn = cross_val_score(knn_model, X_train_pipeline, y_train, cv=5, scoring='recall',n_jobs=-1)"
   ]
  },
  {
   "cell_type": "code",
   "execution_count": 52,
   "metadata": {},
   "outputs": [
    {
     "name": "stdout",
     "output_type": "stream",
     "text": [
      "Logistic Regression\n",
      "recall Score - Mean - Cross Validation:  0.517\n",
      "recall Score - Std - Cross Validation:  0.032\n"
     ]
    }
   ],
   "source": [
    "#Logistic Regression\n",
    "print('Logistic Regression')\n",
    "print('recall Score - Mean - Cross Validation: ', round(score_log.mean(),3))\n",
    "print('recall Score - Std - Cross Validation: ', round(score_log.std(),3))"
   ]
  },
  {
   "cell_type": "code",
   "execution_count": 53,
   "metadata": {},
   "outputs": [
    {
     "name": "stdout",
     "output_type": "stream",
     "text": [
      "knn\n",
      "recall Score - Mean - Cross Validation:  0.513\n",
      "recall Score - Std - Cross Validation:  0.002\n"
     ]
    }
   ],
   "source": [
    "#knn\n",
    "print('knn')\n",
    "print('recall Score - Mean - Cross Validation: ', round(score_knn.mean(),3))\n",
    "print('recall Score - Std - Cross Validation: ', round(score_knn.std(),3))"
   ]
  },
  {
   "cell_type": "code",
   "execution_count": 54,
   "metadata": {},
   "outputs": [
    {
     "name": "stdout",
     "output_type": "stream",
     "text": [
      "Decision Tree\n",
      "recall Score - Mean - Cross Validation:  0.483\n",
      "recall Score - Std - Cross Validation:  0.002\n"
     ]
    }
   ],
   "source": [
    "#Decision Tree\n",
    "print('Decision Tree')\n",
    "print('recall Score - Mean - Cross Validation: ', round(score_dt.mean(),3))\n",
    "print('recall Score - Std - Cross Validation: ', round(score_dt.std(),3))"
   ]
  },
  {
   "cell_type": "code",
   "execution_count": 55,
   "metadata": {},
   "outputs": [
    {
     "name": "stdout",
     "output_type": "stream",
     "text": [
      "Random Forest\n",
      "recall Score - Mean - Cross Validation:  0.555\n",
      "recall Score - Std - Cross Validation:  0.002\n"
     ]
    }
   ],
   "source": [
    "#Random Forest\n",
    "print('Random Forest')\n",
    "print('recall Score - Mean - Cross Validation: ', round(score_rf.mean(),3))\n",
    "print('recall Score - Std - Cross Validation: ', round(score_rf.std(),3))"
   ]
  },
  {
   "cell_type": "code",
   "execution_count": 56,
   "metadata": {},
   "outputs": [
    {
     "name": "stdout",
     "output_type": "stream",
     "text": [
      "Gradient Boosting Classifier\n",
      "recall Score - Mean - Cross Validation:  0.457\n",
      "recall Score - Std - Cross Validation:  0.001\n"
     ]
    }
   ],
   "source": [
    "#Gradient Boosting Classifier\n",
    "print('Gradient Boosting Classifier')\n",
    "print('recall Score - Mean - Cross Validation: ', round(score_gbc.mean(),3))\n",
    "print('recall Score - Std - Cross Validation: ', round(score_gbc.std(),3))"
   ]
  },
  {
   "cell_type": "code",
   "execution_count": 57,
   "metadata": {},
   "outputs": [
    {
     "data": {
      "text/html": [
       "<div>\n",
       "<style scoped>\n",
       "    .dataframe tbody tr th:only-of-type {\n",
       "        vertical-align: middle;\n",
       "    }\n",
       "\n",
       "    .dataframe tbody tr th {\n",
       "        vertical-align: top;\n",
       "    }\n",
       "\n",
       "    .dataframe thead th {\n",
       "        text-align: right;\n",
       "    }\n",
       "</style>\n",
       "<table border=\"1\" class=\"dataframe\">\n",
       "  <thead>\n",
       "    <tr style=\"text-align: right;\">\n",
       "      <th></th>\n",
       "      <th>Model</th>\n",
       "      <th>Recall Mean (Cross Validation)</th>\n",
       "      <th>Recall Std (Cross Validation)</th>\n",
       "    </tr>\n",
       "  </thead>\n",
       "  <tbody>\n",
       "    <tr>\n",
       "      <th>0</th>\n",
       "      <td>Logistic Regression</td>\n",
       "      <td>0.517</td>\n",
       "      <td>0.032</td>\n",
       "    </tr>\n",
       "    <tr>\n",
       "      <th>1</th>\n",
       "      <td>Decision Tree</td>\n",
       "      <td>0.483</td>\n",
       "      <td>0.002</td>\n",
       "    </tr>\n",
       "    <tr>\n",
       "      <th>2</th>\n",
       "      <td>Random Forest</td>\n",
       "      <td>0.555</td>\n",
       "      <td>0.002</td>\n",
       "    </tr>\n",
       "    <tr>\n",
       "      <th>3</th>\n",
       "      <td>Gradient Boosting</td>\n",
       "      <td>0.457</td>\n",
       "      <td>0.001</td>\n",
       "    </tr>\n",
       "    <tr>\n",
       "      <th>4</th>\n",
       "      <td>KNN</td>\n",
       "      <td>0.513</td>\n",
       "      <td>0.002</td>\n",
       "    </tr>\n",
       "  </tbody>\n",
       "</table>\n",
       "</div>"
      ],
      "text/plain": [
       "                 Model  Recall Mean (Cross Validation)  \\\n",
       "0  Logistic Regression                           0.517   \n",
       "1        Decision Tree                           0.483   \n",
       "2        Random Forest                           0.555   \n",
       "3    Gradient Boosting                           0.457   \n",
       "4                  KNN                           0.513   \n",
       "\n",
       "   Recall Std (Cross Validation)  \n",
       "0                          0.032  \n",
       "1                          0.002  \n",
       "2                          0.002  \n",
       "3                          0.001  \n",
       "4                          0.002  "
      ]
     },
     "execution_count": 57,
     "metadata": {},
     "output_type": "execute_result"
    }
   ],
   "source": [
    "models = ['Logistic Regression', 'Decision Tree', 'Random Forest', 'Gradient Boosting', 'KNN']\n",
    "recalls_mean = [score_log.mean(), score_dt.mean(), score_rf.mean(), score_gbc.mean(), score_knn.mean()]\n",
    "recalls_std = [score_log.std(), score_dt.std(), score_rf.std(), score_gbc.std(), score_knn.std()]\n",
    "\n",
    "summary_table = pd.DataFrame({'Model': models, 'Recall Mean (Cross Validation)': recalls_mean, 'Recall Std (Cross Validation)': recalls_std})\n",
    "summary_table = summary_table.round(3)\n",
    "summary_table"
   ]
  },
  {
   "attachments": {},
   "cell_type": "markdown",
   "metadata": {},
   "source": [
    "**Random forest** yields the best **recall** with validation score of 56%. We will then do a hyperparameter tuning on random forest model."
   ]
  },
  {
   "attachments": {},
   "cell_type": "markdown",
   "metadata": {},
   "source": [
    "## Hyperparameter tuning"
   ]
  },
  {
   "attachments": {},
   "cell_type": "markdown",
   "metadata": {},
   "source": [
    "### Random Forest"
   ]
  },
  {
   "cell_type": "code",
   "execution_count": 58,
   "metadata": {},
   "outputs": [
    {
     "name": "stdout",
     "output_type": "stream",
     "text": [
      "Fitting 5 folds for each of 162 candidates, totalling 810 fits\n"
     ]
    },
    {
     "data": {
      "text/html": [
       "<style>#sk-container-id-2 {color: black;background-color: white;}#sk-container-id-2 pre{padding: 0;}#sk-container-id-2 div.sk-toggleable {background-color: white;}#sk-container-id-2 label.sk-toggleable__label {cursor: pointer;display: block;width: 100%;margin-bottom: 0;padding: 0.3em;box-sizing: border-box;text-align: center;}#sk-container-id-2 label.sk-toggleable__label-arrow:before {content: \"▸\";float: left;margin-right: 0.25em;color: #696969;}#sk-container-id-2 label.sk-toggleable__label-arrow:hover:before {color: black;}#sk-container-id-2 div.sk-estimator:hover label.sk-toggleable__label-arrow:before {color: black;}#sk-container-id-2 div.sk-toggleable__content {max-height: 0;max-width: 0;overflow: hidden;text-align: left;background-color: #f0f8ff;}#sk-container-id-2 div.sk-toggleable__content pre {margin: 0.2em;color: black;border-radius: 0.25em;background-color: #f0f8ff;}#sk-container-id-2 input.sk-toggleable__control:checked~div.sk-toggleable__content {max-height: 200px;max-width: 100%;overflow: auto;}#sk-container-id-2 input.sk-toggleable__control:checked~label.sk-toggleable__label-arrow:before {content: \"▾\";}#sk-container-id-2 div.sk-estimator input.sk-toggleable__control:checked~label.sk-toggleable__label {background-color: #d4ebff;}#sk-container-id-2 div.sk-label input.sk-toggleable__control:checked~label.sk-toggleable__label {background-color: #d4ebff;}#sk-container-id-2 input.sk-hidden--visually {border: 0;clip: rect(1px 1px 1px 1px);clip: rect(1px, 1px, 1px, 1px);height: 1px;margin: -1px;overflow: hidden;padding: 0;position: absolute;width: 1px;}#sk-container-id-2 div.sk-estimator {font-family: monospace;background-color: #f0f8ff;border: 1px dotted black;border-radius: 0.25em;box-sizing: border-box;margin-bottom: 0.5em;}#sk-container-id-2 div.sk-estimator:hover {background-color: #d4ebff;}#sk-container-id-2 div.sk-parallel-item::after {content: \"\";width: 100%;border-bottom: 1px solid gray;flex-grow: 1;}#sk-container-id-2 div.sk-label:hover label.sk-toggleable__label {background-color: #d4ebff;}#sk-container-id-2 div.sk-serial::before {content: \"\";position: absolute;border-left: 1px solid gray;box-sizing: border-box;top: 0;bottom: 0;left: 50%;z-index: 0;}#sk-container-id-2 div.sk-serial {display: flex;flex-direction: column;align-items: center;background-color: white;padding-right: 0.2em;padding-left: 0.2em;position: relative;}#sk-container-id-2 div.sk-item {position: relative;z-index: 1;}#sk-container-id-2 div.sk-parallel {display: flex;align-items: stretch;justify-content: center;background-color: white;position: relative;}#sk-container-id-2 div.sk-item::before, #sk-container-id-2 div.sk-parallel-item::before {content: \"\";position: absolute;border-left: 1px solid gray;box-sizing: border-box;top: 0;bottom: 0;left: 50%;z-index: -1;}#sk-container-id-2 div.sk-parallel-item {display: flex;flex-direction: column;z-index: 1;position: relative;background-color: white;}#sk-container-id-2 div.sk-parallel-item:first-child::after {align-self: flex-end;width: 50%;}#sk-container-id-2 div.sk-parallel-item:last-child::after {align-self: flex-start;width: 50%;}#sk-container-id-2 div.sk-parallel-item:only-child::after {width: 0;}#sk-container-id-2 div.sk-dashed-wrapped {border: 1px dashed gray;margin: 0 0.4em 0.5em 0.4em;box-sizing: border-box;padding-bottom: 0.4em;background-color: white;}#sk-container-id-2 div.sk-label label {font-family: monospace;font-weight: bold;display: inline-block;line-height: 1.2em;}#sk-container-id-2 div.sk-label-container {text-align: center;}#sk-container-id-2 div.sk-container {/* jupyter's `normalize.less` sets `[hidden] { display: none; }` but bootstrap.min.css set `[hidden] { display: none !important; }` so we also need the `!important` here to be able to override the default hidden behavior on the sphinx rendered scikit-learn.org. See: https://github.com/scikit-learn/scikit-learn/issues/21755 */display: inline-block !important;position: relative;}#sk-container-id-2 div.sk-text-repr-fallback {display: none;}</style><div id=\"sk-container-id-2\" class=\"sk-top-container\"><div class=\"sk-text-repr-fallback\"><pre>GridSearchCV(cv=5, estimator=RandomForestClassifier(), n_jobs=-1,\n",
       "             param_grid={&#x27;criterion&#x27;: [&#x27;gini&#x27;, &#x27;entropy&#x27;],\n",
       "                         &#x27;max_depth&#x27;: [None, 1, 2],\n",
       "                         &#x27;min_samples_leaf&#x27;: [1, 2, 4],\n",
       "                         &#x27;min_samples_split&#x27;: [2, 4, 6],\n",
       "                         &#x27;n_estimators&#x27;: [5, 10, 20]},\n",
       "             return_train_score=True, scoring=&#x27;recall&#x27;, verbose=3)</pre><b>In a Jupyter environment, please rerun this cell to show the HTML representation or trust the notebook. <br />On GitHub, the HTML representation is unable to render, please try loading this page with nbviewer.org.</b></div><div class=\"sk-container\" hidden><div class=\"sk-item sk-dashed-wrapped\"><div class=\"sk-label-container\"><div class=\"sk-label sk-toggleable\"><input class=\"sk-toggleable__control sk-hidden--visually\" id=\"sk-estimator-id-9\" type=\"checkbox\" ><label for=\"sk-estimator-id-9\" class=\"sk-toggleable__label sk-toggleable__label-arrow\">GridSearchCV</label><div class=\"sk-toggleable__content\"><pre>GridSearchCV(cv=5, estimator=RandomForestClassifier(), n_jobs=-1,\n",
       "             param_grid={&#x27;criterion&#x27;: [&#x27;gini&#x27;, &#x27;entropy&#x27;],\n",
       "                         &#x27;max_depth&#x27;: [None, 1, 2],\n",
       "                         &#x27;min_samples_leaf&#x27;: [1, 2, 4],\n",
       "                         &#x27;min_samples_split&#x27;: [2, 4, 6],\n",
       "                         &#x27;n_estimators&#x27;: [5, 10, 20]},\n",
       "             return_train_score=True, scoring=&#x27;recall&#x27;, verbose=3)</pre></div></div></div><div class=\"sk-parallel\"><div class=\"sk-parallel-item\"><div class=\"sk-item\"><div class=\"sk-label-container\"><div class=\"sk-label sk-toggleable\"><input class=\"sk-toggleable__control sk-hidden--visually\" id=\"sk-estimator-id-10\" type=\"checkbox\" ><label for=\"sk-estimator-id-10\" class=\"sk-toggleable__label sk-toggleable__label-arrow\">estimator: RandomForestClassifier</label><div class=\"sk-toggleable__content\"><pre>RandomForestClassifier()</pre></div></div></div><div class=\"sk-serial\"><div class=\"sk-item\"><div class=\"sk-estimator sk-toggleable\"><input class=\"sk-toggleable__control sk-hidden--visually\" id=\"sk-estimator-id-11\" type=\"checkbox\" ><label for=\"sk-estimator-id-11\" class=\"sk-toggleable__label sk-toggleable__label-arrow\">RandomForestClassifier</label><div class=\"sk-toggleable__content\"><pre>RandomForestClassifier()</pre></div></div></div></div></div></div></div></div></div></div>"
      ],
      "text/plain": [
       "GridSearchCV(cv=5, estimator=RandomForestClassifier(), n_jobs=-1,\n",
       "             param_grid={'criterion': ['gini', 'entropy'],\n",
       "                         'max_depth': [None, 1, 2],\n",
       "                         'min_samples_leaf': [1, 2, 4],\n",
       "                         'min_samples_split': [2, 4, 6],\n",
       "                         'n_estimators': [5, 10, 20]},\n",
       "             return_train_score=True, scoring='recall', verbose=3)"
      ]
     },
     "execution_count": 58,
     "metadata": {},
     "output_type": "execute_result"
    }
   ],
   "source": [
    "# Definisi parameter\n",
    "grid_parameters = {'min_samples_leaf': [1, 2, 4], \n",
    "                   'max_depth': [None, 1, 2], \n",
    "                   'criterion': ['gini', 'entropy'], \n",
    "                   'min_samples_split': [2, 4, 6],\n",
    "                   'n_estimators': [5, 10, 20]}\n",
    "# verbose = 1 akan tampilkan fitting dan param, verbose=2 lebih komplit lagi,verbose 3 ada score accuracy tiap cv\n",
    "# return_train_score =True agar bisa di cetak hasil score Train dan rata2 scorenya train, \n",
    "# kalau False dia hanya score testnya saja\n",
    "grid = GridSearchCV(estimator=rf_model, param_grid=grid_parameters,verbose=3, refit=True,scoring ='recall', \n",
    "                    cv = 5, return_train_score=True, n_jobs=-1\n",
    "                    ) #multi class tidak support roc_auc\n",
    "grid.fit(X_train_pipeline,y_train)"
   ]
  },
  {
   "cell_type": "code",
   "execution_count": 59,
   "metadata": {},
   "outputs": [
    {
     "data": {
      "text/html": [
       "<div>\n",
       "<style scoped>\n",
       "    .dataframe tbody tr th:only-of-type {\n",
       "        vertical-align: middle;\n",
       "    }\n",
       "\n",
       "    .dataframe tbody tr th {\n",
       "        vertical-align: top;\n",
       "    }\n",
       "\n",
       "    .dataframe thead th {\n",
       "        text-align: right;\n",
       "    }\n",
       "</style>\n",
       "<table border=\"1\" class=\"dataframe\">\n",
       "  <thead>\n",
       "    <tr style=\"text-align: right;\">\n",
       "      <th></th>\n",
       "      <th>params</th>\n",
       "      <th>mean_test_score</th>\n",
       "      <th>mean_train_score</th>\n",
       "      <th>std_test_score</th>\n",
       "      <th>std_train_score</th>\n",
       "      <th>rank_test_score</th>\n",
       "      <th>mean_score_time</th>\n",
       "    </tr>\n",
       "  </thead>\n",
       "  <tbody>\n",
       "    <tr>\n",
       "      <th>8</th>\n",
       "      <td>{'criterion': 'gini', 'max_depth': None, 'min_...</td>\n",
       "      <td>0.558532</td>\n",
       "      <td>0.760440</td>\n",
       "      <td>0.002373</td>\n",
       "      <td>0.000540</td>\n",
       "      <td>1</td>\n",
       "      <td>3.747145</td>\n",
       "    </tr>\n",
       "    <tr>\n",
       "      <th>17</th>\n",
       "      <td>{'criterion': 'gini', 'max_depth': None, 'min_...</td>\n",
       "      <td>0.558189</td>\n",
       "      <td>0.741698</td>\n",
       "      <td>0.001895</td>\n",
       "      <td>0.000668</td>\n",
       "      <td>2</td>\n",
       "      <td>3.640183</td>\n",
       "    </tr>\n",
       "    <tr>\n",
       "      <th>98</th>\n",
       "      <td>{'criterion': 'entropy', 'max_depth': None, 'm...</td>\n",
       "      <td>0.557653</td>\n",
       "      <td>0.744247</td>\n",
       "      <td>0.001682</td>\n",
       "      <td>0.000703</td>\n",
       "      <td>3</td>\n",
       "      <td>3.596503</td>\n",
       "    </tr>\n",
       "    <tr>\n",
       "      <th>16</th>\n",
       "      <td>{'criterion': 'gini', 'max_depth': None, 'min_...</td>\n",
       "      <td>0.557429</td>\n",
       "      <td>0.736155</td>\n",
       "      <td>0.001843</td>\n",
       "      <td>0.000519</td>\n",
       "      <td>4</td>\n",
       "      <td>1.904760</td>\n",
       "    </tr>\n",
       "    <tr>\n",
       "      <th>11</th>\n",
       "      <td>{'criterion': 'gini', 'max_depth': None, 'min_...</td>\n",
       "      <td>0.557387</td>\n",
       "      <td>0.755898</td>\n",
       "      <td>0.002507</td>\n",
       "      <td>0.000601</td>\n",
       "      <td>5</td>\n",
       "      <td>3.737174</td>\n",
       "    </tr>\n",
       "    <tr>\n",
       "      <th>...</th>\n",
       "      <td>...</td>\n",
       "      <td>...</td>\n",
       "      <td>...</td>\n",
       "      <td>...</td>\n",
       "      <td>...</td>\n",
       "      <td>...</td>\n",
       "      <td>...</td>\n",
       "    </tr>\n",
       "    <tr>\n",
       "      <th>39</th>\n",
       "      <td>{'criterion': 'gini', 'max_depth': 1, 'min_sam...</td>\n",
       "      <td>0.202438</td>\n",
       "      <td>0.202890</td>\n",
       "      <td>0.108174</td>\n",
       "      <td>0.109085</td>\n",
       "      <td>158</td>\n",
       "      <td>0.290454</td>\n",
       "    </tr>\n",
       "    <tr>\n",
       "      <th>51</th>\n",
       "      <td>{'criterion': 'gini', 'max_depth': 1, 'min_sam...</td>\n",
       "      <td>0.193719</td>\n",
       "      <td>0.194146</td>\n",
       "      <td>0.067932</td>\n",
       "      <td>0.068468</td>\n",
       "      <td>159</td>\n",
       "      <td>0.281438</td>\n",
       "    </tr>\n",
       "    <tr>\n",
       "      <th>45</th>\n",
       "      <td>{'criterion': 'gini', 'max_depth': 1, 'min_sam...</td>\n",
       "      <td>0.191669</td>\n",
       "      <td>0.191797</td>\n",
       "      <td>0.137118</td>\n",
       "      <td>0.137245</td>\n",
       "      <td>160</td>\n",
       "      <td>0.284012</td>\n",
       "    </tr>\n",
       "    <tr>\n",
       "      <th>117</th>\n",
       "      <td>{'criterion': 'entropy', 'max_depth': 1, 'min_...</td>\n",
       "      <td>0.157556</td>\n",
       "      <td>0.157620</td>\n",
       "      <td>0.132200</td>\n",
       "      <td>0.131808</td>\n",
       "      <td>161</td>\n",
       "      <td>0.325502</td>\n",
       "    </tr>\n",
       "    <tr>\n",
       "      <th>114</th>\n",
       "      <td>{'criterion': 'entropy', 'max_depth': 1, 'min_...</td>\n",
       "      <td>0.132345</td>\n",
       "      <td>0.132586</td>\n",
       "      <td>0.109342</td>\n",
       "      <td>0.109459</td>\n",
       "      <td>162</td>\n",
       "      <td>0.262847</td>\n",
       "    </tr>\n",
       "  </tbody>\n",
       "</table>\n",
       "<p>162 rows × 7 columns</p>\n",
       "</div>"
      ],
      "text/plain": [
       "                                                params  mean_test_score  \\\n",
       "8    {'criterion': 'gini', 'max_depth': None, 'min_...         0.558532   \n",
       "17   {'criterion': 'gini', 'max_depth': None, 'min_...         0.558189   \n",
       "98   {'criterion': 'entropy', 'max_depth': None, 'm...         0.557653   \n",
       "16   {'criterion': 'gini', 'max_depth': None, 'min_...         0.557429   \n",
       "11   {'criterion': 'gini', 'max_depth': None, 'min_...         0.557387   \n",
       "..                                                 ...              ...   \n",
       "39   {'criterion': 'gini', 'max_depth': 1, 'min_sam...         0.202438   \n",
       "51   {'criterion': 'gini', 'max_depth': 1, 'min_sam...         0.193719   \n",
       "45   {'criterion': 'gini', 'max_depth': 1, 'min_sam...         0.191669   \n",
       "117  {'criterion': 'entropy', 'max_depth': 1, 'min_...         0.157556   \n",
       "114  {'criterion': 'entropy', 'max_depth': 1, 'min_...         0.132345   \n",
       "\n",
       "     mean_train_score  std_test_score  std_train_score  rank_test_score  \\\n",
       "8            0.760440        0.002373         0.000540                1   \n",
       "17           0.741698        0.001895         0.000668                2   \n",
       "98           0.744247        0.001682         0.000703                3   \n",
       "16           0.736155        0.001843         0.000519                4   \n",
       "11           0.755898        0.002507         0.000601                5   \n",
       "..                ...             ...              ...              ...   \n",
       "39           0.202890        0.108174         0.109085              158   \n",
       "51           0.194146        0.067932         0.068468              159   \n",
       "45           0.191797        0.137118         0.137245              160   \n",
       "117          0.157620        0.132200         0.131808              161   \n",
       "114          0.132586        0.109342         0.109459              162   \n",
       "\n",
       "     mean_score_time  \n",
       "8           3.747145  \n",
       "17          3.640183  \n",
       "98          3.596503  \n",
       "16          1.904760  \n",
       "11          3.737174  \n",
       "..               ...  \n",
       "39          0.290454  \n",
       "51          0.281438  \n",
       "45          0.284012  \n",
       "117         0.325502  \n",
       "114         0.262847  \n",
       "\n",
       "[162 rows x 7 columns]"
      ]
     },
     "execution_count": 59,
     "metadata": {},
     "output_type": "execute_result"
    }
   ],
   "source": [
    "# Menampilkan hasi perhitungan gridsearch\n",
    "dt_hyperparam_df = pd.DataFrame(grid.cv_results_)\n",
    "dt_hyperparam_df.sort_values(\"mean_test_score\", ascending=False)\\\n",
    "[[\"params\", \"mean_test_score\", \"mean_train_score\", \"std_test_score\", \"std_train_score\",'rank_test_score','mean_score_time']]"
   ]
  },
  {
   "cell_type": "code",
   "execution_count": 60,
   "metadata": {},
   "outputs": [
    {
     "name": "stdout",
     "output_type": "stream",
     "text": [
      "RandomForestClassifier(min_samples_split=6, n_estimators=20)\n",
      "{'criterion': 'gini', 'max_depth': None, 'min_samples_leaf': 1, 'min_samples_split': 6, 'n_estimators': 20}\n",
      "8\n"
     ]
    }
   ],
   "source": [
    "print(grid.best_estimator_)\n",
    "print(grid.best_params_)\n",
    "print(grid.best_index_)"
   ]
  },
  {
   "attachments": {},
   "cell_type": "markdown",
   "metadata": {},
   "source": [
    "From the results of gridsearch the best parameter that can be used is `{'criterion': 'entropy', 'max_depth': None, 'min_samples_leaf': 1, 'min_samples_split': 6, 'n_estimators': 20}`. We will use this parameters and evaluate our model."
   ]
  },
  {
   "attachments": {},
   "cell_type": "markdown",
   "metadata": {},
   "source": [
    "# 8. Model Evaluation"
   ]
  },
  {
   "attachments": {},
   "cell_type": "markdown",
   "metadata": {},
   "source": [
    "## Random Forest"
   ]
  },
  {
   "cell_type": "code",
   "execution_count": 61,
   "metadata": {},
   "outputs": [
    {
     "name": "stdout",
     "output_type": "stream",
     "text": [
      "RandomForestClassifier(criterion='entropy', min_samples_split=6,\n",
      "                       n_estimators=20)\n"
     ]
    }
   ],
   "source": [
    "# define model with best parameter\n",
    "best_rf= RandomForestClassifier(criterion= 'entropy', max_depth= None, \n",
    "                                min_samples_leaf= 1, min_samples_split= 6, \n",
    "                                n_estimators= 20)\n",
    "best_rf.fit(X_train_pipeline,y_train)\n",
    "\n",
    "print(best_rf)"
   ]
  },
  {
   "cell_type": "code",
   "execution_count": 62,
   "metadata": {},
   "outputs": [
    {
     "name": "stdout",
     "output_type": "stream",
     "text": [
      "Training score: 0.8054\n",
      "              precision    recall  f1-score   support\n",
      "\n",
      "           0       0.81      0.85      0.83    239295\n",
      "           1       0.80      0.75      0.77    192211\n",
      "\n",
      "    accuracy                           0.81    431506\n",
      "   macro avg       0.80      0.80      0.80    431506\n",
      "weighted avg       0.81      0.81      0.80    431506\n",
      "\n",
      "Test score: 0.6365\n",
      "              precision    recall  f1-score   support\n",
      "\n",
      "           0       0.66      0.70      0.68     59824\n",
      "           1       0.60      0.56      0.58     48053\n",
      "\n",
      "    accuracy                           0.64    107877\n",
      "   macro avg       0.63      0.63      0.63    107877\n",
      "weighted avg       0.63      0.64      0.64    107877\n",
      "\n"
     ]
    }
   ],
   "source": [
    "# Evaluate with classification report\n",
    "train_predict = best_rf.predict(X_train_pipeline)\n",
    "test_predict = best_rf.predict(X_test_pipeline)\n",
    "\n",
    "print('Training score: {:.4f}'.format(best_rf.score(X_train_pipeline, y_train)))\n",
    "print(classification_report(y_train,train_predict))\n",
    "print('Test score: {:.4f}'.format(best_rf.score(X_test_pipeline, y_test)))\n",
    "print(classification_report(y_test,test_predict))"
   ]
  },
  {
   "attachments": {},
   "cell_type": "markdown",
   "metadata": {},
   "source": [
    "Based on the provided classification report, the model achieved the following scores:\n",
    "\n",
    "Training Set\n",
    "\n",
    "- Precision: 0.81 (for class 0) and 0.80 (for class 1)\n",
    "- Recall: 0.85 (for class 0) and 0.75 (for class 1)\n",
    "- F1-score: 0.83 (for class 0) and 0.77 (for class 1)\n",
    "- Accuracy: 0.81\n",
    "\n",
    "Test Set\n",
    "\n",
    "- Precision: 0.66 (for class 0) and 0.60 (for class 1)\n",
    "- Recall: 0.70 (for class 0) and 0.56 (for class 1)\n",
    "- F1-score: 0.68 (for class 0) and 0.58 (for class 1)\n",
    "- Accuracy: 0.64\n",
    "\n",
    "The macro average and weighted average metrics provide an overall summary of the model's performance across both classes. From the scores, it appears that the model is performing better on class 0 (Not Delay) compared to class 1 (Delay) in terms of precision, recall, and F1-score.\n",
    "\n",
    "By comparing the Training score and Test score the model seems overfit because Training set has far higher score than Test set."
   ]
  },
  {
   "cell_type": "code",
   "execution_count": 63,
   "metadata": {},
   "outputs": [
    {
     "data": {
      "text/plain": [
       "<Axes: >"
      ]
     },
     "execution_count": 63,
     "metadata": {},
     "output_type": "execute_result"
    },
    {
     "data": {
      "image/png": "[encoded data removed]",
      "text/plain": [
       "<Figure size 640x480 with 2 Axes>"
      ]
     },
     "metadata": {},
     "output_type": "display_data"
    }
   ],
   "source": [
    "# Evaluasi dengan confusion matrix\n",
    "confusion = confusion_matrix(y_test, best_rf.predict(X_test_pipeline))\n",
    "names = ['True Neg','False Pos','False Neg','True Pos']\n",
    "counts = [value for value in confusion.flatten()]\n",
    "percentages = ['{0:.2%}'.format(value) for value in confusion.flatten()/np.sum(confusion)]\n",
    "labels = [f'{v1}\\n{v2}\\n{v3}' for v1, v2, v3 in zip(names,counts,percentages)]\n",
    "labels = np.asarray(labels).reshape(2,2)\n",
    "sns.heatmap(confusion,annot = labels,cmap = 'Reds',fmt ='')"
   ]
  },
  {
   "attachments": {},
   "cell_type": "markdown",
   "metadata": {},
   "source": [
    "Based on the provided confusion matrix percentages, we can draw the following conclusions:\n",
    "\n",
    "1. True Negative (TN): The model correctly predicted 38.7% of the instances as negative (not delayed flights).\n",
    "2. False Positive (FP): The model incorrectly predicted 16.7% of the instances as positive (delayed flights) when they were actually negative.\n",
    "3. False Negative (FN): The model incorrectly predicted 19.6% of the instances as negative when they were actually positive (delayed flights).\n",
    "4. True Positive (TP): The model correctly predicted 24.9% of the instances as positive (delayed flights).\n",
    "\n",
    "Based on these results, we can make the following observations:\n",
    "\n",
    "1. The model has a relatively higher percentage of false negatives (19.6%) compared to false positives (16.7%). This means that the model is more likely to incorrectly predict a flight as not delayed when it is actually delayed.\n",
    "2. The true positive rate (24.9%) indicates the model's ability to correctly identify delayed flights. However, it is relatively low compared to the false negative rate, suggesting that the model may miss a significant number of delayed flights.\n",
    "3. The true negative rate (38.7%) indicates the model's ability to correctly identify not delayed flights. It is relatively higher than the false positive rate (16.7%), indicating that the model performs better in predicting not delayed flights.\n",
    "\n",
    "In conclusion, the model shows a tendency to be conservative in predicting delayed flights, resulting in a higher false negative rate. Further improvements are needed to increase the model's ability to accurately identify delayed flights."
   ]
  },
  {
   "attachments": {},
   "cell_type": "markdown",
   "metadata": {},
   "source": [
    "# 9. Model Saving"
   ]
  },
  {
   "cell_type": "code",
   "execution_count": 64,
   "metadata": {},
   "outputs": [],
   "source": [
    "# Combine preprocessing and model in a pipeline\n",
    "final_pipeline = Pipeline(steps=[\n",
    "    ('preprocessor', preprocessor),\n",
    "    ('model', best_rf)\n",
    "])"
   ]
  },
  {
   "cell_type": "code",
   "execution_count": 65,
   "metadata": {},
   "outputs": [],
   "source": [
    "# Save the combined pipeline\n",
    "with open('pipeline.pkl', 'wb') as file:\n",
    "    pickle.dump(final_pipeline, file)\n",
    "\n",
    "# Save the list of numeric columns\n",
    "with open('num_cols.json', 'w') as file:\n",
    "    json.dump(num_cols, file)\n",
    "\n",
    "# Save the list of categorical columns (object type)\n",
    "with open('cat_cols_object.json', 'w') as file:\n",
    "    json.dump(cat_cols_object, file)\n",
    "\n",
    "# Save the list of categorical columns (number type)\n",
    "with open('cat_cols_number.json', 'w') as file:\n",
    "    json.dump(cat_cols_number, file)"
   ]
  },
  {
   "attachments": {},
   "cell_type": "markdown",
   "metadata": {},
   "source": [
    "# 10. Model Inference"
   ]
  },
  {
   "attachments": {},
   "cell_type": "markdown",
   "metadata": {},
   "source": [
    "Model inference was performed on the notebook [model_inference.ipynb]('https://github.com/H8-Assignments-Bay/p1-ftds019-rmt-m2-aliaufa/blob/main/model_inference.ipynb'). The model used is random forest because the model evaluation results are the best of all the models tested. The parameters used are the best parameters from the Gridsearch results."
   ]
  },
  {
   "attachments": {},
   "cell_type": "markdown",
   "metadata": {},
   "source": [
    "After doing the inference model, it can be seen that the model can make predictions. We will deploy the model on huggingface"
   ]
  },
  {
   "attachments": {},
   "cell_type": "markdown",
   "metadata": {},
   "source": [
    "# 11. Conclusion\n",
    "\n",
    "Based on the analysis and model evaluation, the following conclusions can be drawn:\n",
    "\n",
    "1. Flight Departure Time: Most flights depart between 6 to 8 AM, with a peak around 1 PM. Afternoon to evening flights have a higher likelihood of experiencing delays.\n",
    "\n",
    "2. Flight Duration: The majority of flights have a duration of approximately 2 hours, with some outliers representing long-haul flights lasting over 10 hours.\n",
    "\n",
    "3. Airlines and Delays: Continental Airlines (CO) and Southwest Airlines (WN) have a higher proportion of delayed flights. Southwest Airlines has the highest number of total flights, while Delta Airlines (DL) has the highest number of not delayed flights. Airlines with the lowest delay ratios include US Airways (US), Hawaiian Airlines (HA), PSA Airlines (OH), Mesa Airlines (YV), and AirTran Airways (FL).\n",
    "\n",
    "4. Busiest Airport: Hartsfield-Jackson Atlanta International Airport (ATL) in Georgia appears to be the busiest airport, with the most frequent destinations.\n",
    "\n",
    "5. Weekly Distribution: Wednesday to Friday observe higher flight frequencies compared to other days. Additionally, Friday experiences fewer delayed flights.\n",
    "\n",
    "6. Model Evaluation: The Random Forest model yielded the best recall with a validation score of 56%. However, the model demonstrates signs of overfitting, as the training set scores are significantly higher than the test set scores.\n",
    "\n",
    "7. Performance Metrics: The model performs better on class 0 (Not Delay) compared to class 1 (Delay) in terms of precision, recall, and F1-score. The test set scores indicate lower overall performance compared to the training set, suggesting the need for addressing overfitting.\n",
    "\n",
    "the model shows a tendency to be conservative in predicting delayed flights, resulting in a higher false negative rate. Further improvements are needed to increase the model's ability to accurately identify delayed flights.\n",
    "\n",
    "To address the overfitting issue, various approaches can be considered, such as different feature engineering, regularization techniques, and potentially acquiring more diverse data.\n",
    "\n"
   ]
  }
 ],
 "metadata": {
  "kernelspec": {
   "display_name": "base",
   "language": "python",
   "name": "python3"
  },
  "language_info": {
   "codemirror_mode": {
    "name": "ipython",
    "version": 3
   },
   "file_extension": ".py",
   "mimetype": "text/x-python",
   "name": "python",
   "nbconvert_exporter": "python",
   "pygments_lexer": "ipython3",
   "version": "3.10.9"
  },
  "orig_nbformat": 4
 },
 "nbformat": 4,
 "nbformat_minor": 2
}
